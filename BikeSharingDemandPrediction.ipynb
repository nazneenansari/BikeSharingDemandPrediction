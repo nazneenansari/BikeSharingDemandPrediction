{
 "cells": [
  {
   "cell_type": "markdown",
   "id": "e3eea147",
   "metadata": {},
   "source": [
    "# __Multiple Linear Regression Assignment__"
   ]
  },
  {
   "cell_type": "markdown",
   "id": "9c15dbfe",
   "metadata": {},
   "source": [
    "## Bike Sharing Demand Prediction\n",
    "\n",
    "In this notebook, we'll build a linear regression model to predict `Demand for Shared Bikes.` using an appropriate predictor variable.\n",
    "\n",
    "The solution is divided into the following sections:\n",
    "- Data Understanding\n",
    "- Data Cleaning and Manipulation\n",
    "- Data Visualization\n",
    "- Data Preparation\n",
    "- Model Building\n",
    "- Model Evaluation\n",
    "- Interpretations & Conclusions"
   ]
  },
  {
   "cell_type": "markdown",
   "id": "20df27eb",
   "metadata": {},
   "source": [
    "### 1. Data Understanding\n",
    "\n",
    "Let's first import the required libraries and have a look at the dataset and understand the size, attribute names etc."
   ]
  },
  {
   "cell_type": "code",
   "execution_count": 1,
   "id": "613929f2",
   "metadata": {},
   "outputs": [],
   "source": [
    "#Importing libraries\n",
    "import sys                                                                      \n",
    "import pandas as pd\n",
    "import seaborn as sns\n",
    "import numpy as np\n",
    "import matplotlib as mp\n",
    "import matplotlib.pyplot as plt\n",
    "\n",
    "# ML Libraries\n",
    "import statsmodels.api as sm\n",
    "from statsmodels.stats.outliers_influence import variance_inflation_factor\n",
    "\n",
    "import sklearn\n",
    "from sklearn.model_selection import train_test_split\n",
    "from sklearn.preprocessing import MinMaxScaler\n",
    "from sklearn.linear_model import LinearRegression\n",
    "from sklearn.feature_selection import RFE\n",
    "from sklearn.metrics import r2_score\n",
    "\n",
    "from math import sqrt\n",
    "import calendar\n",
    "\n",
    "# Supress Warnings\n",
    "import warnings\n",
    "%matplotlib inline                                                             \n",
    "warnings.filterwarnings('ignore')"
   ]
  },
  {
   "cell_type": "code",
   "execution_count": 2,
   "id": "47ecb06f",
   "metadata": {},
   "outputs": [
    {
     "data": {
      "text/plain": [
       "'0.24.2'"
      ]
     },
     "execution_count": 2,
     "metadata": {},
     "output_type": "execute_result"
    }
   ],
   "source": [
    "sklearn.__version__"
   ]
  },
  {
   "cell_type": "code",
   "execution_count": 3,
   "id": "ab32eb8b",
   "metadata": {},
   "outputs": [
    {
     "data": {
      "text/plain": [
       "'0.12.2'"
      ]
     },
     "execution_count": 3,
     "metadata": {},
     "output_type": "execute_result"
    }
   ],
   "source": [
    "sm.__version__"
   ]
  },
  {
   "cell_type": "code",
   "execution_count": 4,
   "id": "5bf1a302",
   "metadata": {},
   "outputs": [
    {
     "data": {
      "text/html": [
       "<div>\n",
       "<style scoped>\n",
       "    .dataframe tbody tr th:only-of-type {\n",
       "        vertical-align: middle;\n",
       "    }\n",
       "\n",
       "    .dataframe tbody tr th {\n",
       "        vertical-align: top;\n",
       "    }\n",
       "\n",
       "    .dataframe thead th {\n",
       "        text-align: right;\n",
       "    }\n",
       "</style>\n",
       "<table border=\"1\" class=\"dataframe\">\n",
       "  <thead>\n",
       "    <tr style=\"text-align: right;\">\n",
       "      <th></th>\n",
       "      <th>instant</th>\n",
       "      <th>dteday</th>\n",
       "      <th>season</th>\n",
       "      <th>yr</th>\n",
       "      <th>mnth</th>\n",
       "      <th>holiday</th>\n",
       "      <th>weekday</th>\n",
       "      <th>workingday</th>\n",
       "      <th>weathersit</th>\n",
       "      <th>temp</th>\n",
       "      <th>atemp</th>\n",
       "      <th>hum</th>\n",
       "      <th>windspeed</th>\n",
       "      <th>casual</th>\n",
       "      <th>registered</th>\n",
       "      <th>cnt</th>\n",
       "    </tr>\n",
       "  </thead>\n",
       "  <tbody>\n",
       "    <tr>\n",
       "      <th>0</th>\n",
       "      <td>1</td>\n",
       "      <td>2018-01-01</td>\n",
       "      <td>1</td>\n",
       "      <td>0</td>\n",
       "      <td>1</td>\n",
       "      <td>0</td>\n",
       "      <td>6</td>\n",
       "      <td>0</td>\n",
       "      <td>2</td>\n",
       "      <td>14.110847</td>\n",
       "      <td>18.18125</td>\n",
       "      <td>80.5833</td>\n",
       "      <td>10.749882</td>\n",
       "      <td>331</td>\n",
       "      <td>654</td>\n",
       "      <td>985</td>\n",
       "    </tr>\n",
       "    <tr>\n",
       "      <th>1</th>\n",
       "      <td>2</td>\n",
       "      <td>2018-02-01</td>\n",
       "      <td>1</td>\n",
       "      <td>0</td>\n",
       "      <td>1</td>\n",
       "      <td>0</td>\n",
       "      <td>0</td>\n",
       "      <td>0</td>\n",
       "      <td>2</td>\n",
       "      <td>14.902598</td>\n",
       "      <td>17.68695</td>\n",
       "      <td>69.6087</td>\n",
       "      <td>16.652113</td>\n",
       "      <td>131</td>\n",
       "      <td>670</td>\n",
       "      <td>801</td>\n",
       "    </tr>\n",
       "    <tr>\n",
       "      <th>2</th>\n",
       "      <td>3</td>\n",
       "      <td>2018-03-01</td>\n",
       "      <td>1</td>\n",
       "      <td>0</td>\n",
       "      <td>1</td>\n",
       "      <td>0</td>\n",
       "      <td>1</td>\n",
       "      <td>1</td>\n",
       "      <td>1</td>\n",
       "      <td>8.050924</td>\n",
       "      <td>9.47025</td>\n",
       "      <td>43.7273</td>\n",
       "      <td>16.636703</td>\n",
       "      <td>120</td>\n",
       "      <td>1229</td>\n",
       "      <td>1349</td>\n",
       "    </tr>\n",
       "    <tr>\n",
       "      <th>3</th>\n",
       "      <td>4</td>\n",
       "      <td>2018-04-01</td>\n",
       "      <td>1</td>\n",
       "      <td>0</td>\n",
       "      <td>1</td>\n",
       "      <td>0</td>\n",
       "      <td>2</td>\n",
       "      <td>1</td>\n",
       "      <td>1</td>\n",
       "      <td>8.200000</td>\n",
       "      <td>10.60610</td>\n",
       "      <td>59.0435</td>\n",
       "      <td>10.739832</td>\n",
       "      <td>108</td>\n",
       "      <td>1454</td>\n",
       "      <td>1562</td>\n",
       "    </tr>\n",
       "    <tr>\n",
       "      <th>4</th>\n",
       "      <td>5</td>\n",
       "      <td>2018-05-01</td>\n",
       "      <td>1</td>\n",
       "      <td>0</td>\n",
       "      <td>1</td>\n",
       "      <td>0</td>\n",
       "      <td>3</td>\n",
       "      <td>1</td>\n",
       "      <td>1</td>\n",
       "      <td>9.305237</td>\n",
       "      <td>11.46350</td>\n",
       "      <td>43.6957</td>\n",
       "      <td>12.522300</td>\n",
       "      <td>82</td>\n",
       "      <td>1518</td>\n",
       "      <td>1600</td>\n",
       "    </tr>\n",
       "  </tbody>\n",
       "</table>\n",
       "</div>"
      ],
      "text/plain": [
       "   instant     dteday  season  yr  mnth  holiday  weekday  workingday  \\\n",
       "0        1 2018-01-01       1   0     1        0        6           0   \n",
       "1        2 2018-02-01       1   0     1        0        0           0   \n",
       "2        3 2018-03-01       1   0     1        0        1           1   \n",
       "3        4 2018-04-01       1   0     1        0        2           1   \n",
       "4        5 2018-05-01       1   0     1        0        3           1   \n",
       "\n",
       "   weathersit       temp     atemp      hum  windspeed  casual  registered  \\\n",
       "0           2  14.110847  18.18125  80.5833  10.749882     331         654   \n",
       "1           2  14.902598  17.68695  69.6087  16.652113     131         670   \n",
       "2           1   8.050924   9.47025  43.7273  16.636703     120        1229   \n",
       "3           1   8.200000  10.60610  59.0435  10.739832     108        1454   \n",
       "4           1   9.305237  11.46350  43.6957  12.522300      82        1518   \n",
       "\n",
       "    cnt  \n",
       "0   985  \n",
       "1   801  \n",
       "2  1349  \n",
       "3  1562  \n",
       "4  1600  "
      ]
     },
     "execution_count": 4,
     "metadata": {},
     "output_type": "execute_result"
    }
   ],
   "source": [
    "# Reading the dataset\n",
    "bike_data = pd.read_csv(\"https://raw.githubusercontent.com/nazneenansari/dataset/master/day.csv\" , parse_dates=['dteday'])\n",
    "bike_data.head()"
   ]
  },
  {
   "cell_type": "code",
   "execution_count": 5,
   "id": "6df26d53",
   "metadata": {},
   "outputs": [
    {
     "data": {
      "text/html": [
       "<div>\n",
       "<style scoped>\n",
       "    .dataframe tbody tr th:only-of-type {\n",
       "        vertical-align: middle;\n",
       "    }\n",
       "\n",
       "    .dataframe tbody tr th {\n",
       "        vertical-align: top;\n",
       "    }\n",
       "\n",
       "    .dataframe thead th {\n",
       "        text-align: right;\n",
       "    }\n",
       "</style>\n",
       "<table border=\"1\" class=\"dataframe\">\n",
       "  <thead>\n",
       "    <tr style=\"text-align: right;\">\n",
       "      <th></th>\n",
       "      <th>instant</th>\n",
       "      <th>season</th>\n",
       "      <th>yr</th>\n",
       "      <th>mnth</th>\n",
       "      <th>holiday</th>\n",
       "      <th>weekday</th>\n",
       "      <th>workingday</th>\n",
       "      <th>weathersit</th>\n",
       "      <th>temp</th>\n",
       "      <th>atemp</th>\n",
       "      <th>hum</th>\n",
       "      <th>windspeed</th>\n",
       "      <th>casual</th>\n",
       "      <th>registered</th>\n",
       "      <th>cnt</th>\n",
       "    </tr>\n",
       "  </thead>\n",
       "  <tbody>\n",
       "    <tr>\n",
       "      <th>count</th>\n",
       "      <td>730.000000</td>\n",
       "      <td>730.000000</td>\n",
       "      <td>730.000000</td>\n",
       "      <td>730.000000</td>\n",
       "      <td>730.000000</td>\n",
       "      <td>730.000000</td>\n",
       "      <td>730.000000</td>\n",
       "      <td>730.000000</td>\n",
       "      <td>730.000000</td>\n",
       "      <td>730.000000</td>\n",
       "      <td>730.000000</td>\n",
       "      <td>730.000000</td>\n",
       "      <td>730.000000</td>\n",
       "      <td>730.000000</td>\n",
       "      <td>730.000000</td>\n",
       "    </tr>\n",
       "    <tr>\n",
       "      <th>mean</th>\n",
       "      <td>365.500000</td>\n",
       "      <td>2.498630</td>\n",
       "      <td>0.500000</td>\n",
       "      <td>6.526027</td>\n",
       "      <td>0.028767</td>\n",
       "      <td>2.997260</td>\n",
       "      <td>0.683562</td>\n",
       "      <td>1.394521</td>\n",
       "      <td>20.319259</td>\n",
       "      <td>23.726322</td>\n",
       "      <td>62.765175</td>\n",
       "      <td>12.763620</td>\n",
       "      <td>849.249315</td>\n",
       "      <td>3658.757534</td>\n",
       "      <td>4508.006849</td>\n",
       "    </tr>\n",
       "    <tr>\n",
       "      <th>std</th>\n",
       "      <td>210.877136</td>\n",
       "      <td>1.110184</td>\n",
       "      <td>0.500343</td>\n",
       "      <td>3.450215</td>\n",
       "      <td>0.167266</td>\n",
       "      <td>2.006161</td>\n",
       "      <td>0.465405</td>\n",
       "      <td>0.544807</td>\n",
       "      <td>7.506729</td>\n",
       "      <td>8.150308</td>\n",
       "      <td>14.237589</td>\n",
       "      <td>5.195841</td>\n",
       "      <td>686.479875</td>\n",
       "      <td>1559.758728</td>\n",
       "      <td>1936.011647</td>\n",
       "    </tr>\n",
       "    <tr>\n",
       "      <th>min</th>\n",
       "      <td>1.000000</td>\n",
       "      <td>1.000000</td>\n",
       "      <td>0.000000</td>\n",
       "      <td>1.000000</td>\n",
       "      <td>0.000000</td>\n",
       "      <td>0.000000</td>\n",
       "      <td>0.000000</td>\n",
       "      <td>1.000000</td>\n",
       "      <td>2.424346</td>\n",
       "      <td>3.953480</td>\n",
       "      <td>0.000000</td>\n",
       "      <td>1.500244</td>\n",
       "      <td>2.000000</td>\n",
       "      <td>20.000000</td>\n",
       "      <td>22.000000</td>\n",
       "    </tr>\n",
       "    <tr>\n",
       "      <th>25%</th>\n",
       "      <td>183.250000</td>\n",
       "      <td>2.000000</td>\n",
       "      <td>0.000000</td>\n",
       "      <td>4.000000</td>\n",
       "      <td>0.000000</td>\n",
       "      <td>1.000000</td>\n",
       "      <td>0.000000</td>\n",
       "      <td>1.000000</td>\n",
       "      <td>13.811885</td>\n",
       "      <td>16.889713</td>\n",
       "      <td>52.000000</td>\n",
       "      <td>9.041650</td>\n",
       "      <td>316.250000</td>\n",
       "      <td>2502.250000</td>\n",
       "      <td>3169.750000</td>\n",
       "    </tr>\n",
       "    <tr>\n",
       "      <th>50%</th>\n",
       "      <td>365.500000</td>\n",
       "      <td>3.000000</td>\n",
       "      <td>0.500000</td>\n",
       "      <td>7.000000</td>\n",
       "      <td>0.000000</td>\n",
       "      <td>3.000000</td>\n",
       "      <td>1.000000</td>\n",
       "      <td>1.000000</td>\n",
       "      <td>20.465826</td>\n",
       "      <td>24.368225</td>\n",
       "      <td>62.625000</td>\n",
       "      <td>12.125325</td>\n",
       "      <td>717.000000</td>\n",
       "      <td>3664.500000</td>\n",
       "      <td>4548.500000</td>\n",
       "    </tr>\n",
       "    <tr>\n",
       "      <th>75%</th>\n",
       "      <td>547.750000</td>\n",
       "      <td>3.000000</td>\n",
       "      <td>1.000000</td>\n",
       "      <td>10.000000</td>\n",
       "      <td>0.000000</td>\n",
       "      <td>5.000000</td>\n",
       "      <td>1.000000</td>\n",
       "      <td>2.000000</td>\n",
       "      <td>26.880615</td>\n",
       "      <td>30.445775</td>\n",
       "      <td>72.989575</td>\n",
       "      <td>15.625589</td>\n",
       "      <td>1096.500000</td>\n",
       "      <td>4783.250000</td>\n",
       "      <td>5966.000000</td>\n",
       "    </tr>\n",
       "    <tr>\n",
       "      <th>max</th>\n",
       "      <td>730.000000</td>\n",
       "      <td>4.000000</td>\n",
       "      <td>1.000000</td>\n",
       "      <td>12.000000</td>\n",
       "      <td>1.000000</td>\n",
       "      <td>6.000000</td>\n",
       "      <td>1.000000</td>\n",
       "      <td>3.000000</td>\n",
       "      <td>35.328347</td>\n",
       "      <td>42.044800</td>\n",
       "      <td>97.250000</td>\n",
       "      <td>34.000021</td>\n",
       "      <td>3410.000000</td>\n",
       "      <td>6946.000000</td>\n",
       "      <td>8714.000000</td>\n",
       "    </tr>\n",
       "  </tbody>\n",
       "</table>\n",
       "</div>"
      ],
      "text/plain": [
       "          instant      season          yr        mnth     holiday     weekday  \\\n",
       "count  730.000000  730.000000  730.000000  730.000000  730.000000  730.000000   \n",
       "mean   365.500000    2.498630    0.500000    6.526027    0.028767    2.997260   \n",
       "std    210.877136    1.110184    0.500343    3.450215    0.167266    2.006161   \n",
       "min      1.000000    1.000000    0.000000    1.000000    0.000000    0.000000   \n",
       "25%    183.250000    2.000000    0.000000    4.000000    0.000000    1.000000   \n",
       "50%    365.500000    3.000000    0.500000    7.000000    0.000000    3.000000   \n",
       "75%    547.750000    3.000000    1.000000   10.000000    0.000000    5.000000   \n",
       "max    730.000000    4.000000    1.000000   12.000000    1.000000    6.000000   \n",
       "\n",
       "       workingday  weathersit        temp       atemp         hum   windspeed  \\\n",
       "count  730.000000  730.000000  730.000000  730.000000  730.000000  730.000000   \n",
       "mean     0.683562    1.394521   20.319259   23.726322   62.765175   12.763620   \n",
       "std      0.465405    0.544807    7.506729    8.150308   14.237589    5.195841   \n",
       "min      0.000000    1.000000    2.424346    3.953480    0.000000    1.500244   \n",
       "25%      0.000000    1.000000   13.811885   16.889713   52.000000    9.041650   \n",
       "50%      1.000000    1.000000   20.465826   24.368225   62.625000   12.125325   \n",
       "75%      1.000000    2.000000   26.880615   30.445775   72.989575   15.625589   \n",
       "max      1.000000    3.000000   35.328347   42.044800   97.250000   34.000021   \n",
       "\n",
       "            casual   registered          cnt  \n",
       "count   730.000000   730.000000   730.000000  \n",
       "mean    849.249315  3658.757534  4508.006849  \n",
       "std     686.479875  1559.758728  1936.011647  \n",
       "min       2.000000    20.000000    22.000000  \n",
       "25%     316.250000  2502.250000  3169.750000  \n",
       "50%     717.000000  3664.500000  4548.500000  \n",
       "75%    1096.500000  4783.250000  5966.000000  \n",
       "max    3410.000000  6946.000000  8714.000000  "
      ]
     },
     "execution_count": 5,
     "metadata": {},
     "output_type": "execute_result"
    }
   ],
   "source": [
    "bike_data.describe()"
   ]
  },
  {
   "cell_type": "code",
   "execution_count": 6,
   "id": "c36aefab",
   "metadata": {},
   "outputs": [
    {
     "name": "stdout",
     "output_type": "stream",
     "text": [
      "<class 'pandas.core.frame.DataFrame'>\n",
      "RangeIndex: 730 entries, 0 to 729\n",
      "Data columns (total 16 columns):\n",
      " #   Column      Non-Null Count  Dtype         \n",
      "---  ------      --------------  -----         \n",
      " 0   instant     730 non-null    int64         \n",
      " 1   dteday      730 non-null    datetime64[ns]\n",
      " 2   season      730 non-null    int64         \n",
      " 3   yr          730 non-null    int64         \n",
      " 4   mnth        730 non-null    int64         \n",
      " 5   holiday     730 non-null    int64         \n",
      " 6   weekday     730 non-null    int64         \n",
      " 7   workingday  730 non-null    int64         \n",
      " 8   weathersit  730 non-null    int64         \n",
      " 9   temp        730 non-null    float64       \n",
      " 10  atemp       730 non-null    float64       \n",
      " 11  hum         730 non-null    float64       \n",
      " 12  windspeed   730 non-null    float64       \n",
      " 13  casual      730 non-null    int64         \n",
      " 14  registered  730 non-null    int64         \n",
      " 15  cnt         730 non-null    int64         \n",
      "dtypes: datetime64[ns](1), float64(4), int64(11)\n",
      "memory usage: 91.4 KB\n"
     ]
    }
   ],
   "source": [
    "bike_data.info()"
   ]
  },
  {
   "cell_type": "code",
   "execution_count": 7,
   "id": "08530d13",
   "metadata": {},
   "outputs": [
    {
     "data": {
      "text/plain": [
       "(730, 16)"
      ]
     },
     "execution_count": 7,
     "metadata": {},
     "output_type": "execute_result"
    }
   ],
   "source": [
    "bike_data.shape"
   ]
  },
  {
   "cell_type": "code",
   "execution_count": 8,
   "id": "53f792d0",
   "metadata": {
    "scrolled": true
   },
   "outputs": [
    {
     "data": {
      "text/plain": [
       "instant       0\n",
       "dteday        0\n",
       "season        0\n",
       "yr            0\n",
       "mnth          0\n",
       "holiday       0\n",
       "weekday       0\n",
       "workingday    0\n",
       "weathersit    0\n",
       "temp          0\n",
       "atemp         0\n",
       "hum           0\n",
       "windspeed     0\n",
       "casual        0\n",
       "registered    0\n",
       "cnt           0\n",
       "dtype: int64"
      ]
     },
     "execution_count": 8,
     "metadata": {},
     "output_type": "execute_result"
    }
   ],
   "source": [
    "bike_data.isnull().sum()"
   ]
  },
  {
   "cell_type": "markdown",
   "id": "f8b60628",
   "metadata": {},
   "source": [
    "### 2. Data Cleaning and Manipulation"
   ]
  },
  {
   "cell_type": "markdown",
   "id": "5cc56bf1",
   "metadata": {},
   "source": [
    "__a. Drop rows with duplicate instant__"
   ]
  },
  {
   "cell_type": "code",
   "execution_count": 9,
   "id": "17828d17",
   "metadata": {},
   "outputs": [
    {
     "data": {
      "text/html": [
       "<div>\n",
       "<style scoped>\n",
       "    .dataframe tbody tr th:only-of-type {\n",
       "        vertical-align: middle;\n",
       "    }\n",
       "\n",
       "    .dataframe tbody tr th {\n",
       "        vertical-align: top;\n",
       "    }\n",
       "\n",
       "    .dataframe thead th {\n",
       "        text-align: right;\n",
       "    }\n",
       "</style>\n",
       "<table border=\"1\" class=\"dataframe\">\n",
       "  <thead>\n",
       "    <tr style=\"text-align: right;\">\n",
       "      <th></th>\n",
       "      <th>instant</th>\n",
       "      <th>dteday</th>\n",
       "      <th>season</th>\n",
       "      <th>yr</th>\n",
       "      <th>mnth</th>\n",
       "      <th>holiday</th>\n",
       "      <th>weekday</th>\n",
       "      <th>workingday</th>\n",
       "      <th>weathersit</th>\n",
       "      <th>temp</th>\n",
       "      <th>atemp</th>\n",
       "      <th>hum</th>\n",
       "      <th>windspeed</th>\n",
       "      <th>casual</th>\n",
       "      <th>registered</th>\n",
       "      <th>cnt</th>\n",
       "    </tr>\n",
       "  </thead>\n",
       "  <tbody>\n",
       "  </tbody>\n",
       "</table>\n",
       "</div>"
      ],
      "text/plain": [
       "Empty DataFrame\n",
       "Columns: [instant, dteday, season, yr, mnth, holiday, weekday, workingday, weathersit, temp, atemp, hum, windspeed, casual, registered, cnt]\n",
       "Index: []"
      ]
     },
     "execution_count": 9,
     "metadata": {},
     "output_type": "execute_result"
    }
   ],
   "source": [
    "duplicate_rows=bike_data[bike_data.duplicated(['instant'])]\n",
    "duplicate_rows"
   ]
  },
  {
   "cell_type": "code",
   "execution_count": 10,
   "id": "868cd8f2",
   "metadata": {},
   "outputs": [],
   "source": [
    "bike_data.drop_duplicates(subset=None, inplace=True)"
   ]
  },
  {
   "cell_type": "markdown",
   "id": "85580a38",
   "metadata": {},
   "source": [
    "__No duplicate__ records with same instant"
   ]
  },
  {
   "cell_type": "markdown",
   "id": "fd65fa01",
   "metadata": {},
   "source": [
    "__b. Drop columns irrelevant for the analysis__"
   ]
  },
  {
   "cell_type": "code",
   "execution_count": 11,
   "id": "993376ab",
   "metadata": {},
   "outputs": [
    {
     "data": {
      "text/html": [
       "<div>\n",
       "<style scoped>\n",
       "    .dataframe tbody tr th:only-of-type {\n",
       "        vertical-align: middle;\n",
       "    }\n",
       "\n",
       "    .dataframe tbody tr th {\n",
       "        vertical-align: top;\n",
       "    }\n",
       "\n",
       "    .dataframe thead th {\n",
       "        text-align: right;\n",
       "    }\n",
       "</style>\n",
       "<table border=\"1\" class=\"dataframe\">\n",
       "  <thead>\n",
       "    <tr style=\"text-align: right;\">\n",
       "      <th></th>\n",
       "      <th>season</th>\n",
       "      <th>yr</th>\n",
       "      <th>mnth</th>\n",
       "      <th>holiday</th>\n",
       "      <th>weekday</th>\n",
       "      <th>workingday</th>\n",
       "      <th>weathersit</th>\n",
       "      <th>temp</th>\n",
       "      <th>atemp</th>\n",
       "      <th>hum</th>\n",
       "      <th>windspeed</th>\n",
       "      <th>cnt</th>\n",
       "    </tr>\n",
       "  </thead>\n",
       "  <tbody>\n",
       "    <tr>\n",
       "      <th>0</th>\n",
       "      <td>1</td>\n",
       "      <td>0</td>\n",
       "      <td>1</td>\n",
       "      <td>0</td>\n",
       "      <td>6</td>\n",
       "      <td>0</td>\n",
       "      <td>2</td>\n",
       "      <td>14.110847</td>\n",
       "      <td>18.18125</td>\n",
       "      <td>80.5833</td>\n",
       "      <td>10.749882</td>\n",
       "      <td>985</td>\n",
       "    </tr>\n",
       "    <tr>\n",
       "      <th>1</th>\n",
       "      <td>1</td>\n",
       "      <td>0</td>\n",
       "      <td>1</td>\n",
       "      <td>0</td>\n",
       "      <td>0</td>\n",
       "      <td>0</td>\n",
       "      <td>2</td>\n",
       "      <td>14.902598</td>\n",
       "      <td>17.68695</td>\n",
       "      <td>69.6087</td>\n",
       "      <td>16.652113</td>\n",
       "      <td>801</td>\n",
       "    </tr>\n",
       "    <tr>\n",
       "      <th>2</th>\n",
       "      <td>1</td>\n",
       "      <td>0</td>\n",
       "      <td>1</td>\n",
       "      <td>0</td>\n",
       "      <td>1</td>\n",
       "      <td>1</td>\n",
       "      <td>1</td>\n",
       "      <td>8.050924</td>\n",
       "      <td>9.47025</td>\n",
       "      <td>43.7273</td>\n",
       "      <td>16.636703</td>\n",
       "      <td>1349</td>\n",
       "    </tr>\n",
       "    <tr>\n",
       "      <th>3</th>\n",
       "      <td>1</td>\n",
       "      <td>0</td>\n",
       "      <td>1</td>\n",
       "      <td>0</td>\n",
       "      <td>2</td>\n",
       "      <td>1</td>\n",
       "      <td>1</td>\n",
       "      <td>8.200000</td>\n",
       "      <td>10.60610</td>\n",
       "      <td>59.0435</td>\n",
       "      <td>10.739832</td>\n",
       "      <td>1562</td>\n",
       "    </tr>\n",
       "    <tr>\n",
       "      <th>4</th>\n",
       "      <td>1</td>\n",
       "      <td>0</td>\n",
       "      <td>1</td>\n",
       "      <td>0</td>\n",
       "      <td>3</td>\n",
       "      <td>1</td>\n",
       "      <td>1</td>\n",
       "      <td>9.305237</td>\n",
       "      <td>11.46350</td>\n",
       "      <td>43.6957</td>\n",
       "      <td>12.522300</td>\n",
       "      <td>1600</td>\n",
       "    </tr>\n",
       "  </tbody>\n",
       "</table>\n",
       "</div>"
      ],
      "text/plain": [
       "   season  yr  mnth  holiday  weekday  workingday  weathersit       temp  \\\n",
       "0       1   0     1        0        6           0           2  14.110847   \n",
       "1       1   0     1        0        0           0           2  14.902598   \n",
       "2       1   0     1        0        1           1           1   8.050924   \n",
       "3       1   0     1        0        2           1           1   8.200000   \n",
       "4       1   0     1        0        3           1           1   9.305237   \n",
       "\n",
       "      atemp      hum  windspeed   cnt  \n",
       "0  18.18125  80.5833  10.749882   985  \n",
       "1  17.68695  69.6087  16.652113   801  \n",
       "2   9.47025  43.7273  16.636703  1349  \n",
       "3  10.60610  59.0435  10.739832  1562  \n",
       "4  11.46350  43.6957  12.522300  1600  "
      ]
     },
     "execution_count": 11,
     "metadata": {},
     "output_type": "execute_result"
    }
   ],
   "source": [
    "bike_data.drop(['instant','dteday','casual','registered'],axis = 1,inplace = True) \n",
    "bike_data.head()"
   ]
  },
  {
   "cell_type": "markdown",
   "id": "efb5885b",
   "metadata": {},
   "source": [
    "__c. Rename columns__"
   ]
  },
  {
   "cell_type": "code",
   "execution_count": 12,
   "id": "ec14155f",
   "metadata": {},
   "outputs": [],
   "source": [
    "bike_data.rename(columns={'yr': 'year', 'mnth': 'month','holiday': 'is_holiday', 'weekday': 'week_day', 'workingday': 'is_working_day',\n",
    "                   'weathersit':'weather_sit','temp': 'temperature','atemp':'a_temperature','hum':'humidity',\n",
    "                   'windspeed':'wind_speed','cnt':'count'}, inplace=True)"
   ]
  },
  {
   "cell_type": "code",
   "execution_count": 13,
   "id": "bd263a51",
   "metadata": {},
   "outputs": [
    {
     "data": {
      "text/plain": [
       "Index(['season', 'year', 'month', 'is_holiday', 'week_day', 'is_working_day',\n",
       "       'weather_sit', 'temperature', 'a_temperature', 'humidity', 'wind_speed',\n",
       "       'count'],\n",
       "      dtype='object')"
      ]
     },
     "execution_count": 13,
     "metadata": {},
     "output_type": "execute_result"
    }
   ],
   "source": [
    "bike_data.columns"
   ]
  },
  {
   "cell_type": "code",
   "execution_count": 14,
   "id": "67c7a80c",
   "metadata": {},
   "outputs": [
    {
     "data": {
      "text/html": [
       "<div>\n",
       "<style scoped>\n",
       "    .dataframe tbody tr th:only-of-type {\n",
       "        vertical-align: middle;\n",
       "    }\n",
       "\n",
       "    .dataframe tbody tr th {\n",
       "        vertical-align: top;\n",
       "    }\n",
       "\n",
       "    .dataframe thead th {\n",
       "        text-align: right;\n",
       "    }\n",
       "</style>\n",
       "<table border=\"1\" class=\"dataframe\">\n",
       "  <thead>\n",
       "    <tr style=\"text-align: right;\">\n",
       "      <th></th>\n",
       "      <th>season</th>\n",
       "      <th>year</th>\n",
       "      <th>month</th>\n",
       "      <th>is_holiday</th>\n",
       "      <th>week_day</th>\n",
       "      <th>is_working_day</th>\n",
       "      <th>weather_sit</th>\n",
       "      <th>temperature</th>\n",
       "      <th>a_temperature</th>\n",
       "      <th>humidity</th>\n",
       "      <th>wind_speed</th>\n",
       "      <th>count</th>\n",
       "    </tr>\n",
       "  </thead>\n",
       "  <tbody>\n",
       "    <tr>\n",
       "      <th>0</th>\n",
       "      <td>1</td>\n",
       "      <td>0</td>\n",
       "      <td>1</td>\n",
       "      <td>0</td>\n",
       "      <td>6</td>\n",
       "      <td>0</td>\n",
       "      <td>2</td>\n",
       "      <td>14.110847</td>\n",
       "      <td>18.18125</td>\n",
       "      <td>80.5833</td>\n",
       "      <td>10.749882</td>\n",
       "      <td>985</td>\n",
       "    </tr>\n",
       "    <tr>\n",
       "      <th>1</th>\n",
       "      <td>1</td>\n",
       "      <td>0</td>\n",
       "      <td>1</td>\n",
       "      <td>0</td>\n",
       "      <td>0</td>\n",
       "      <td>0</td>\n",
       "      <td>2</td>\n",
       "      <td>14.902598</td>\n",
       "      <td>17.68695</td>\n",
       "      <td>69.6087</td>\n",
       "      <td>16.652113</td>\n",
       "      <td>801</td>\n",
       "    </tr>\n",
       "    <tr>\n",
       "      <th>2</th>\n",
       "      <td>1</td>\n",
       "      <td>0</td>\n",
       "      <td>1</td>\n",
       "      <td>0</td>\n",
       "      <td>1</td>\n",
       "      <td>1</td>\n",
       "      <td>1</td>\n",
       "      <td>8.050924</td>\n",
       "      <td>9.47025</td>\n",
       "      <td>43.7273</td>\n",
       "      <td>16.636703</td>\n",
       "      <td>1349</td>\n",
       "    </tr>\n",
       "    <tr>\n",
       "      <th>3</th>\n",
       "      <td>1</td>\n",
       "      <td>0</td>\n",
       "      <td>1</td>\n",
       "      <td>0</td>\n",
       "      <td>2</td>\n",
       "      <td>1</td>\n",
       "      <td>1</td>\n",
       "      <td>8.200000</td>\n",
       "      <td>10.60610</td>\n",
       "      <td>59.0435</td>\n",
       "      <td>10.739832</td>\n",
       "      <td>1562</td>\n",
       "    </tr>\n",
       "    <tr>\n",
       "      <th>4</th>\n",
       "      <td>1</td>\n",
       "      <td>0</td>\n",
       "      <td>1</td>\n",
       "      <td>0</td>\n",
       "      <td>3</td>\n",
       "      <td>1</td>\n",
       "      <td>1</td>\n",
       "      <td>9.305237</td>\n",
       "      <td>11.46350</td>\n",
       "      <td>43.6957</td>\n",
       "      <td>12.522300</td>\n",
       "      <td>1600</td>\n",
       "    </tr>\n",
       "  </tbody>\n",
       "</table>\n",
       "</div>"
      ],
      "text/plain": [
       "   season  year  month  is_holiday  week_day  is_working_day  weather_sit  \\\n",
       "0       1     0      1           0         6               0            2   \n",
       "1       1     0      1           0         0               0            2   \n",
       "2       1     0      1           0         1               1            1   \n",
       "3       1     0      1           0         2               1            1   \n",
       "4       1     0      1           0         3               1            1   \n",
       "\n",
       "   temperature  a_temperature  humidity  wind_speed  count  \n",
       "0    14.110847       18.18125   80.5833   10.749882    985  \n",
       "1    14.902598       17.68695   69.6087   16.652113    801  \n",
       "2     8.050924        9.47025   43.7273   16.636703   1349  \n",
       "3     8.200000       10.60610   59.0435   10.739832   1562  \n",
       "4     9.305237       11.46350   43.6957   12.522300   1600  "
      ]
     },
     "execution_count": 14,
     "metadata": {},
     "output_type": "execute_result"
    }
   ],
   "source": [
    "bike_data.head()"
   ]
  },
  {
   "cell_type": "markdown",
   "id": "0fa42604",
   "metadata": {},
   "source": [
    "- __Categorical Variables__\n",
    "    1. season\n",
    "    2. year\n",
    "    3. month\n",
    "    4. is_holiday\n",
    "    5. week_day\n",
    "    6. is_working_day\n",
    "    7. weather_sit\n",
    "    \n",
    "- __Continuous Variables__\n",
    "    1. a_temperature\n",
    "    2. humidity\n",
    "    3. wind_speed    "
   ]
  },
  {
   "cell_type": "markdown",
   "id": "fa04890b",
   "metadata": {},
   "source": [
    "### 3. Data Visualization"
   ]
  },
  {
   "cell_type": "markdown",
   "id": "3ba9a26c",
   "metadata": {},
   "source": [
    "__a. Correlation between continuous numerical variables__"
   ]
  },
  {
   "cell_type": "code",
   "execution_count": 15,
   "id": "64c6ffee",
   "metadata": {},
   "outputs": [
    {
     "data": {
      "image/png": "[encoded data removed]",
      "text/plain": [
       "<Figure size 432x288 with 2 Axes>"
      ]
     },
     "metadata": {
      "needs_background": "light"
     },
     "output_type": "display_data"
    }
   ],
   "source": [
    "sns.heatmap(bike_data[['count', 'a_temperature', 'humidity','wind_speed']].corr(),annot=True, cmap='YlGnBu' )\n",
    "plt.show()"
   ]
  },
  {
   "cell_type": "code",
   "execution_count": 16,
   "id": "c9c38c4f",
   "metadata": {},
   "outputs": [
    {
     "data": {
      "image/png": "[encoded data removed]",
      "text/plain": [
       "<Figure size 720x720 with 20 Axes>"
      ]
     },
     "metadata": {
      "needs_background": "light"
     },
     "output_type": "display_data"
    }
   ],
   "source": [
    "sns.pairplot(data=bike_data,vars=['count', 'a_temperature', 'humidity','wind_speed'])\n",
    "plt.show()"
   ]
  },
  {
   "cell_type": "markdown",
   "id": "7e95bb39",
   "metadata": {},
   "source": [
    "From the above two graphs, it is evident that __temperature__ and __a_temperature__ are highly correlated. Also, these variables are somewhat linearly corelated with target variable."
   ]
  },
  {
   "cell_type": "code",
   "execution_count": 17,
   "id": "09ca8963",
   "metadata": {},
   "outputs": [
    {
     "data": {
      "text/html": [
       "<div>\n",
       "<style scoped>\n",
       "    .dataframe tbody tr th:only-of-type {\n",
       "        vertical-align: middle;\n",
       "    }\n",
       "\n",
       "    .dataframe tbody tr th {\n",
       "        vertical-align: top;\n",
       "    }\n",
       "\n",
       "    .dataframe thead th {\n",
       "        text-align: right;\n",
       "    }\n",
       "</style>\n",
       "<table border=\"1\" class=\"dataframe\">\n",
       "  <thead>\n",
       "    <tr style=\"text-align: right;\">\n",
       "      <th></th>\n",
       "      <th>season</th>\n",
       "      <th>year</th>\n",
       "      <th>month</th>\n",
       "      <th>is_holiday</th>\n",
       "      <th>week_day</th>\n",
       "      <th>is_working_day</th>\n",
       "      <th>weather_sit</th>\n",
       "      <th>a_temperature</th>\n",
       "      <th>humidity</th>\n",
       "      <th>wind_speed</th>\n",
       "      <th>count</th>\n",
       "    </tr>\n",
       "  </thead>\n",
       "  <tbody>\n",
       "    <tr>\n",
       "      <th>0</th>\n",
       "      <td>1</td>\n",
       "      <td>0</td>\n",
       "      <td>1</td>\n",
       "      <td>0</td>\n",
       "      <td>6</td>\n",
       "      <td>0</td>\n",
       "      <td>2</td>\n",
       "      <td>18.18125</td>\n",
       "      <td>80.5833</td>\n",
       "      <td>10.749882</td>\n",
       "      <td>985</td>\n",
       "    </tr>\n",
       "    <tr>\n",
       "      <th>1</th>\n",
       "      <td>1</td>\n",
       "      <td>0</td>\n",
       "      <td>1</td>\n",
       "      <td>0</td>\n",
       "      <td>0</td>\n",
       "      <td>0</td>\n",
       "      <td>2</td>\n",
       "      <td>17.68695</td>\n",
       "      <td>69.6087</td>\n",
       "      <td>16.652113</td>\n",
       "      <td>801</td>\n",
       "    </tr>\n",
       "    <tr>\n",
       "      <th>2</th>\n",
       "      <td>1</td>\n",
       "      <td>0</td>\n",
       "      <td>1</td>\n",
       "      <td>0</td>\n",
       "      <td>1</td>\n",
       "      <td>1</td>\n",
       "      <td>1</td>\n",
       "      <td>9.47025</td>\n",
       "      <td>43.7273</td>\n",
       "      <td>16.636703</td>\n",
       "      <td>1349</td>\n",
       "    </tr>\n",
       "    <tr>\n",
       "      <th>3</th>\n",
       "      <td>1</td>\n",
       "      <td>0</td>\n",
       "      <td>1</td>\n",
       "      <td>0</td>\n",
       "      <td>2</td>\n",
       "      <td>1</td>\n",
       "      <td>1</td>\n",
       "      <td>10.60610</td>\n",
       "      <td>59.0435</td>\n",
       "      <td>10.739832</td>\n",
       "      <td>1562</td>\n",
       "    </tr>\n",
       "    <tr>\n",
       "      <th>4</th>\n",
       "      <td>1</td>\n",
       "      <td>0</td>\n",
       "      <td>1</td>\n",
       "      <td>0</td>\n",
       "      <td>3</td>\n",
       "      <td>1</td>\n",
       "      <td>1</td>\n",
       "      <td>11.46350</td>\n",
       "      <td>43.6957</td>\n",
       "      <td>12.522300</td>\n",
       "      <td>1600</td>\n",
       "    </tr>\n",
       "  </tbody>\n",
       "</table>\n",
       "</div>"
      ],
      "text/plain": [
       "   season  year  month  is_holiday  week_day  is_working_day  weather_sit  \\\n",
       "0       1     0      1           0         6               0            2   \n",
       "1       1     0      1           0         0               0            2   \n",
       "2       1     0      1           0         1               1            1   \n",
       "3       1     0      1           0         2               1            1   \n",
       "4       1     0      1           0         3               1            1   \n",
       "\n",
       "   a_temperature  humidity  wind_speed  count  \n",
       "0       18.18125   80.5833   10.749882    985  \n",
       "1       17.68695   69.6087   16.652113    801  \n",
       "2        9.47025   43.7273   16.636703   1349  \n",
       "3       10.60610   59.0435   10.739832   1562  \n",
       "4       11.46350   43.6957   12.522300   1600  "
      ]
     },
     "execution_count": 17,
     "metadata": {},
     "output_type": "execute_result"
    }
   ],
   "source": [
    "bike_data.drop(['temperature'],axis = 1,inplace = True) \n",
    "bike_data.head()"
   ]
  },
  {
   "cell_type": "markdown",
   "id": "814d529a",
   "metadata": {},
   "source": [
    "__b. Impact of categorical variables on target variable.__"
   ]
  },
  {
   "cell_type": "code",
   "execution_count": 18,
   "id": "b29c6298",
   "metadata": {},
   "outputs": [
    {
     "data": {
      "image/png": "[encoded data removed]",
      "text/plain": [
       "<Figure size 1440x864 with 7 Axes>"
      ]
     },
     "metadata": {
      "needs_background": "light"
     },
     "output_type": "display_data"
    }
   ],
   "source": [
    "plt.figure(figsize=(20, 12))\n",
    "plt.subplot(3,3,1)\n",
    "sns.boxplot(x = 'season', y = 'count', data = bike_data)\n",
    "plt.subplot(3,3,2)\n",
    "sns.boxplot(x = 'month', y = 'count', data = bike_data)\n",
    "plt.subplot(3,3,3)\n",
    "sns.boxplot(x = 'is_holiday', y = 'count', data = bike_data)\n",
    "plt.subplot(3,3,4)\n",
    "sns.boxplot(x = 'weather_sit', y = 'count', data = bike_data)\n",
    "plt.subplot(3,3,5)\n",
    "sns.boxplot(x = 'year', y = 'count', data = bike_data)\n",
    "plt.subplot(3,3,6)\n",
    "sns.boxplot(x = 'week_day', y = 'count', data = bike_data)\n",
    "plt.subplot(3,3,7)\n",
    "sns.boxplot(x = 'is_working_day', y = 'count', data = bike_data)\n",
    "plt.show()"
   ]
  },
  {
   "cell_type": "markdown",
   "id": "d2ed7659",
   "metadata": {},
   "source": [
    "__Observations:__\n",
    "- Number of user is the __highest__ in __Fall season, followed by Summer__. __Spring season__ has the __lowest__ number of bikers.\n",
    "- The demand for bikes are __higher in July and September__ comparitively.\n",
    "- The usage of bikes on __weekday is higher than on holida__y. Also, the bike usage thoughout the week days are almost the same.\n",
    "- People prefer to ride bikes on a __clear or partly cloudy day__. There is __no demand__ of bikes on during __heavy rain or thunderstorm.__"
   ]
  },
  {
   "cell_type": "markdown",
   "id": "b0d7a849",
   "metadata": {},
   "source": [
    "### 4. Data Preparation"
   ]
  },
  {
   "cell_type": "markdown",
   "id": "cf3489dd",
   "metadata": {},
   "source": [
    "__a. Convert numeric columns to categorical variables as per data dictionary__"
   ]
  },
  {
   "cell_type": "code",
   "execution_count": 19,
   "id": "26f8e1f4",
   "metadata": {},
   "outputs": [
    {
     "data": {
      "text/plain": [
       "array(['Jan', 'Feb', 'Mar', 'Apr', 'May', 'Jun', 'Jul', 'Aug', 'Sep',\n",
       "       'Oct', 'Nov', 'Dec'], dtype=object)"
      ]
     },
     "execution_count": 19,
     "metadata": {},
     "output_type": "execute_result"
    }
   ],
   "source": [
    "# Map Months \n",
    "bike_data['month'] = bike_data['month'].apply(lambda x: calendar.month_abbr[x])\n",
    "bike_data.month.unique()"
   ]
  },
  {
   "cell_type": "code",
   "execution_count": 20,
   "id": "ea3049e7",
   "metadata": {},
   "outputs": [
    {
     "data": {
      "text/plain": [
       "array(['Spring', 'Summer', 'Fall', 'Winter'], dtype=object)"
      ]
     },
     "execution_count": 20,
     "metadata": {},
     "output_type": "execute_result"
    }
   ],
   "source": [
    "# Map Seasons\n",
    "bike_data['season'] = bike_data['season'].map({1: 'Spring',2:'Summer',3:'Fall',4:'Winter'})\n",
    "bike_data.season.unique()"
   ]
  },
  {
   "cell_type": "code",
   "execution_count": 21,
   "id": "6e31ffe8",
   "metadata": {},
   "outputs": [
    {
     "data": {
      "text/plain": [
       "array(['Mist_Cloudy', 'Clear', 'Light_Snow'], dtype=object)"
      ]
     },
     "execution_count": 21,
     "metadata": {},
     "output_type": "execute_result"
    }
   ],
   "source": [
    "# Map Weather Sit\n",
    "bike_data['weather_sit'] = bike_data['weather_sit'].map({1:'Clear', 2:'Mist_Cloudy', 3:'Light_Snow', 4:'Heavy_Rain'})\n",
    "bike_data.weather_sit.unique()"
   ]
  },
  {
   "cell_type": "code",
   "execution_count": 22,
   "id": "adbe79ec",
   "metadata": {},
   "outputs": [
    {
     "data": {
      "text/plain": [
       "array(['Saturday', 'Sunday', 'Monday', 'Tuesday', 'Wednesday', 'Thursday',\n",
       "       'Friday'], dtype=object)"
      ]
     },
     "execution_count": 22,
     "metadata": {},
     "output_type": "execute_result"
    }
   ],
   "source": [
    "# Map Weekday\n",
    "bike_data['week_day'] = bike_data['week_day'].map({0:\"Sunday\", 1:\"Monday\", 2:\"Tuesday\", 3:\"Wednesday\",\n",
    "                                                   4:\"Thursday\", 5:\"Friday\", 6:\"Saturday\"})\n",
    "bike_data.week_day.unique()"
   ]
  },
  {
   "cell_type": "code",
   "execution_count": 23,
   "id": "77e65806",
   "metadata": {},
   "outputs": [
    {
     "data": {
      "text/html": [
       "<div>\n",
       "<style scoped>\n",
       "    .dataframe tbody tr th:only-of-type {\n",
       "        vertical-align: middle;\n",
       "    }\n",
       "\n",
       "    .dataframe tbody tr th {\n",
       "        vertical-align: top;\n",
       "    }\n",
       "\n",
       "    .dataframe thead th {\n",
       "        text-align: right;\n",
       "    }\n",
       "</style>\n",
       "<table border=\"1\" class=\"dataframe\">\n",
       "  <thead>\n",
       "    <tr style=\"text-align: right;\">\n",
       "      <th></th>\n",
       "      <th>season</th>\n",
       "      <th>year</th>\n",
       "      <th>month</th>\n",
       "      <th>is_holiday</th>\n",
       "      <th>week_day</th>\n",
       "      <th>is_working_day</th>\n",
       "      <th>weather_sit</th>\n",
       "      <th>a_temperature</th>\n",
       "      <th>humidity</th>\n",
       "      <th>wind_speed</th>\n",
       "      <th>count</th>\n",
       "    </tr>\n",
       "  </thead>\n",
       "  <tbody>\n",
       "    <tr>\n",
       "      <th>0</th>\n",
       "      <td>Spring</td>\n",
       "      <td>0</td>\n",
       "      <td>Jan</td>\n",
       "      <td>0</td>\n",
       "      <td>Saturday</td>\n",
       "      <td>0</td>\n",
       "      <td>Mist_Cloudy</td>\n",
       "      <td>18.18125</td>\n",
       "      <td>80.5833</td>\n",
       "      <td>10.749882</td>\n",
       "      <td>985</td>\n",
       "    </tr>\n",
       "    <tr>\n",
       "      <th>1</th>\n",
       "      <td>Spring</td>\n",
       "      <td>0</td>\n",
       "      <td>Jan</td>\n",
       "      <td>0</td>\n",
       "      <td>Sunday</td>\n",
       "      <td>0</td>\n",
       "      <td>Mist_Cloudy</td>\n",
       "      <td>17.68695</td>\n",
       "      <td>69.6087</td>\n",
       "      <td>16.652113</td>\n",
       "      <td>801</td>\n",
       "    </tr>\n",
       "    <tr>\n",
       "      <th>2</th>\n",
       "      <td>Spring</td>\n",
       "      <td>0</td>\n",
       "      <td>Jan</td>\n",
       "      <td>0</td>\n",
       "      <td>Monday</td>\n",
       "      <td>1</td>\n",
       "      <td>Clear</td>\n",
       "      <td>9.47025</td>\n",
       "      <td>43.7273</td>\n",
       "      <td>16.636703</td>\n",
       "      <td>1349</td>\n",
       "    </tr>\n",
       "    <tr>\n",
       "      <th>3</th>\n",
       "      <td>Spring</td>\n",
       "      <td>0</td>\n",
       "      <td>Jan</td>\n",
       "      <td>0</td>\n",
       "      <td>Tuesday</td>\n",
       "      <td>1</td>\n",
       "      <td>Clear</td>\n",
       "      <td>10.60610</td>\n",
       "      <td>59.0435</td>\n",
       "      <td>10.739832</td>\n",
       "      <td>1562</td>\n",
       "    </tr>\n",
       "    <tr>\n",
       "      <th>4</th>\n",
       "      <td>Spring</td>\n",
       "      <td>0</td>\n",
       "      <td>Jan</td>\n",
       "      <td>0</td>\n",
       "      <td>Wednesday</td>\n",
       "      <td>1</td>\n",
       "      <td>Clear</td>\n",
       "      <td>11.46350</td>\n",
       "      <td>43.6957</td>\n",
       "      <td>12.522300</td>\n",
       "      <td>1600</td>\n",
       "    </tr>\n",
       "  </tbody>\n",
       "</table>\n",
       "</div>"
      ],
      "text/plain": [
       "   season  year month  is_holiday   week_day  is_working_day  weather_sit  \\\n",
       "0  Spring     0   Jan           0   Saturday               0  Mist_Cloudy   \n",
       "1  Spring     0   Jan           0     Sunday               0  Mist_Cloudy   \n",
       "2  Spring     0   Jan           0     Monday               1        Clear   \n",
       "3  Spring     0   Jan           0    Tuesday               1        Clear   \n",
       "4  Spring     0   Jan           0  Wednesday               1        Clear   \n",
       "\n",
       "   a_temperature  humidity  wind_speed  count  \n",
       "0       18.18125   80.5833   10.749882    985  \n",
       "1       17.68695   69.6087   16.652113    801  \n",
       "2        9.47025   43.7273   16.636703   1349  \n",
       "3       10.60610   59.0435   10.739832   1562  \n",
       "4       11.46350   43.6957   12.522300   1600  "
      ]
     },
     "execution_count": 23,
     "metadata": {},
     "output_type": "execute_result"
    }
   ],
   "source": [
    "bike_data.head()"
   ]
  },
  {
   "cell_type": "markdown",
   "id": "b3e48c2f",
   "metadata": {},
   "source": [
    "__b. Create dummy for all categorical variables.__"
   ]
  },
  {
   "cell_type": "code",
   "execution_count": 24,
   "id": "d52aa59d",
   "metadata": {},
   "outputs": [
    {
     "data": {
      "text/html": [
       "<div>\n",
       "<style scoped>\n",
       "    .dataframe tbody tr th:only-of-type {\n",
       "        vertical-align: middle;\n",
       "    }\n",
       "\n",
       "    .dataframe tbody tr th {\n",
       "        vertical-align: top;\n",
       "    }\n",
       "\n",
       "    .dataframe thead th {\n",
       "        text-align: right;\n",
       "    }\n",
       "</style>\n",
       "<table border=\"1\" class=\"dataframe\">\n",
       "  <thead>\n",
       "    <tr style=\"text-align: right;\">\n",
       "      <th></th>\n",
       "      <th>year</th>\n",
       "      <th>is_holiday</th>\n",
       "      <th>is_working_day</th>\n",
       "      <th>a_temperature</th>\n",
       "      <th>humidity</th>\n",
       "      <th>wind_speed</th>\n",
       "      <th>count</th>\n",
       "      <th>season_Spring</th>\n",
       "      <th>season_Summer</th>\n",
       "      <th>season_Winter</th>\n",
       "      <th>...</th>\n",
       "      <th>month_Oct</th>\n",
       "      <th>month_Sep</th>\n",
       "      <th>week_day_Monday</th>\n",
       "      <th>week_day_Saturday</th>\n",
       "      <th>week_day_Sunday</th>\n",
       "      <th>week_day_Thursday</th>\n",
       "      <th>week_day_Tuesday</th>\n",
       "      <th>week_day_Wednesday</th>\n",
       "      <th>weather_sit_Light_Snow</th>\n",
       "      <th>weather_sit_Mist_Cloudy</th>\n",
       "    </tr>\n",
       "  </thead>\n",
       "  <tbody>\n",
       "    <tr>\n",
       "      <th>0</th>\n",
       "      <td>0</td>\n",
       "      <td>0</td>\n",
       "      <td>0</td>\n",
       "      <td>18.18125</td>\n",
       "      <td>80.5833</td>\n",
       "      <td>10.749882</td>\n",
       "      <td>985</td>\n",
       "      <td>1</td>\n",
       "      <td>0</td>\n",
       "      <td>0</td>\n",
       "      <td>...</td>\n",
       "      <td>0</td>\n",
       "      <td>0</td>\n",
       "      <td>0</td>\n",
       "      <td>1</td>\n",
       "      <td>0</td>\n",
       "      <td>0</td>\n",
       "      <td>0</td>\n",
       "      <td>0</td>\n",
       "      <td>0</td>\n",
       "      <td>1</td>\n",
       "    </tr>\n",
       "    <tr>\n",
       "      <th>1</th>\n",
       "      <td>0</td>\n",
       "      <td>0</td>\n",
       "      <td>0</td>\n",
       "      <td>17.68695</td>\n",
       "      <td>69.6087</td>\n",
       "      <td>16.652113</td>\n",
       "      <td>801</td>\n",
       "      <td>1</td>\n",
       "      <td>0</td>\n",
       "      <td>0</td>\n",
       "      <td>...</td>\n",
       "      <td>0</td>\n",
       "      <td>0</td>\n",
       "      <td>0</td>\n",
       "      <td>0</td>\n",
       "      <td>1</td>\n",
       "      <td>0</td>\n",
       "      <td>0</td>\n",
       "      <td>0</td>\n",
       "      <td>0</td>\n",
       "      <td>1</td>\n",
       "    </tr>\n",
       "    <tr>\n",
       "      <th>2</th>\n",
       "      <td>0</td>\n",
       "      <td>0</td>\n",
       "      <td>1</td>\n",
       "      <td>9.47025</td>\n",
       "      <td>43.7273</td>\n",
       "      <td>16.636703</td>\n",
       "      <td>1349</td>\n",
       "      <td>1</td>\n",
       "      <td>0</td>\n",
       "      <td>0</td>\n",
       "      <td>...</td>\n",
       "      <td>0</td>\n",
       "      <td>0</td>\n",
       "      <td>1</td>\n",
       "      <td>0</td>\n",
       "      <td>0</td>\n",
       "      <td>0</td>\n",
       "      <td>0</td>\n",
       "      <td>0</td>\n",
       "      <td>0</td>\n",
       "      <td>0</td>\n",
       "    </tr>\n",
       "    <tr>\n",
       "      <th>3</th>\n",
       "      <td>0</td>\n",
       "      <td>0</td>\n",
       "      <td>1</td>\n",
       "      <td>10.60610</td>\n",
       "      <td>59.0435</td>\n",
       "      <td>10.739832</td>\n",
       "      <td>1562</td>\n",
       "      <td>1</td>\n",
       "      <td>0</td>\n",
       "      <td>0</td>\n",
       "      <td>...</td>\n",
       "      <td>0</td>\n",
       "      <td>0</td>\n",
       "      <td>0</td>\n",
       "      <td>0</td>\n",
       "      <td>0</td>\n",
       "      <td>0</td>\n",
       "      <td>1</td>\n",
       "      <td>0</td>\n",
       "      <td>0</td>\n",
       "      <td>0</td>\n",
       "    </tr>\n",
       "    <tr>\n",
       "      <th>4</th>\n",
       "      <td>0</td>\n",
       "      <td>0</td>\n",
       "      <td>1</td>\n",
       "      <td>11.46350</td>\n",
       "      <td>43.6957</td>\n",
       "      <td>12.522300</td>\n",
       "      <td>1600</td>\n",
       "      <td>1</td>\n",
       "      <td>0</td>\n",
       "      <td>0</td>\n",
       "      <td>...</td>\n",
       "      <td>0</td>\n",
       "      <td>0</td>\n",
       "      <td>0</td>\n",
       "      <td>0</td>\n",
       "      <td>0</td>\n",
       "      <td>0</td>\n",
       "      <td>0</td>\n",
       "      <td>1</td>\n",
       "      <td>0</td>\n",
       "      <td>0</td>\n",
       "    </tr>\n",
       "  </tbody>\n",
       "</table>\n",
       "<p>5 rows × 29 columns</p>\n",
       "</div>"
      ],
      "text/plain": [
       "   year  is_holiday  is_working_day  a_temperature  humidity  wind_speed  \\\n",
       "0     0           0               0       18.18125   80.5833   10.749882   \n",
       "1     0           0               0       17.68695   69.6087   16.652113   \n",
       "2     0           0               1        9.47025   43.7273   16.636703   \n",
       "3     0           0               1       10.60610   59.0435   10.739832   \n",
       "4     0           0               1       11.46350   43.6957   12.522300   \n",
       "\n",
       "   count  season_Spring  season_Summer  season_Winter  ...  month_Oct  \\\n",
       "0    985              1              0              0  ...          0   \n",
       "1    801              1              0              0  ...          0   \n",
       "2   1349              1              0              0  ...          0   \n",
       "3   1562              1              0              0  ...          0   \n",
       "4   1600              1              0              0  ...          0   \n",
       "\n",
       "   month_Sep  week_day_Monday  week_day_Saturday  week_day_Sunday  \\\n",
       "0          0                0                  1                0   \n",
       "1          0                0                  0                1   \n",
       "2          0                1                  0                0   \n",
       "3          0                0                  0                0   \n",
       "4          0                0                  0                0   \n",
       "\n",
       "   week_day_Thursday  week_day_Tuesday  week_day_Wednesday  \\\n",
       "0                  0                 0                   0   \n",
       "1                  0                 0                   0   \n",
       "2                  0                 0                   0   \n",
       "3                  0                 1                   0   \n",
       "4                  0                 0                   1   \n",
       "\n",
       "   weather_sit_Light_Snow  weather_sit_Mist_Cloudy  \n",
       "0                       0                        1  \n",
       "1                       0                        1  \n",
       "2                       0                        0  \n",
       "3                       0                        0  \n",
       "4                       0                        0  \n",
       "\n",
       "[5 rows x 29 columns]"
      ]
     },
     "execution_count": 24,
     "metadata": {},
     "output_type": "execute_result"
    }
   ],
   "source": [
    "bike_data = pd.get_dummies(bike_data, drop_first=True)\n",
    "bike_data.head()"
   ]
  },
  {
   "cell_type": "code",
   "execution_count": 25,
   "id": "bce59c7f",
   "metadata": {},
   "outputs": [
    {
     "data": {
      "text/plain": [
       "Index(['year', 'is_holiday', 'is_working_day', 'a_temperature', 'humidity',\n",
       "       'wind_speed', 'count', 'season_Spring', 'season_Summer',\n",
       "       'season_Winter', 'month_Aug', 'month_Dec', 'month_Feb', 'month_Jan',\n",
       "       'month_Jul', 'month_Jun', 'month_Mar', 'month_May', 'month_Nov',\n",
       "       'month_Oct', 'month_Sep', 'week_day_Monday', 'week_day_Saturday',\n",
       "       'week_day_Sunday', 'week_day_Thursday', 'week_day_Tuesday',\n",
       "       'week_day_Wednesday', 'weather_sit_Light_Snow',\n",
       "       'weather_sit_Mist_Cloudy'],\n",
       "      dtype='object')"
      ]
     },
     "execution_count": 25,
     "metadata": {},
     "output_type": "execute_result"
    }
   ],
   "source": [
    "bike_data.columns"
   ]
  },
  {
   "cell_type": "markdown",
   "id": "d835a647",
   "metadata": {},
   "source": [
    "__c. Split Data into training and test set__"
   ]
  },
  {
   "cell_type": "code",
   "execution_count": 26,
   "id": "34db0cc8",
   "metadata": {},
   "outputs": [],
   "source": [
    "#Train Test split with 70:30 ratio\n",
    "np.random.seed(0)\n",
    "bike_data_train, bike_data_test = train_test_split(bike_data, train_size=0.7, test_size=0.3, random_state=100)"
   ]
  },
  {
   "cell_type": "code",
   "execution_count": 27,
   "id": "f96b12d1",
   "metadata": {},
   "outputs": [
    {
     "data": {
      "text/html": [
       "<div>\n",
       "<style scoped>\n",
       "    .dataframe tbody tr th:only-of-type {\n",
       "        vertical-align: middle;\n",
       "    }\n",
       "\n",
       "    .dataframe tbody tr th {\n",
       "        vertical-align: top;\n",
       "    }\n",
       "\n",
       "    .dataframe thead th {\n",
       "        text-align: right;\n",
       "    }\n",
       "</style>\n",
       "<table border=\"1\" class=\"dataframe\">\n",
       "  <thead>\n",
       "    <tr style=\"text-align: right;\">\n",
       "      <th></th>\n",
       "      <th>year</th>\n",
       "      <th>is_holiday</th>\n",
       "      <th>is_working_day</th>\n",
       "      <th>a_temperature</th>\n",
       "      <th>humidity</th>\n",
       "      <th>wind_speed</th>\n",
       "      <th>count</th>\n",
       "      <th>season_Spring</th>\n",
       "      <th>season_Summer</th>\n",
       "      <th>season_Winter</th>\n",
       "      <th>...</th>\n",
       "      <th>month_Oct</th>\n",
       "      <th>month_Sep</th>\n",
       "      <th>week_day_Monday</th>\n",
       "      <th>week_day_Saturday</th>\n",
       "      <th>week_day_Sunday</th>\n",
       "      <th>week_day_Thursday</th>\n",
       "      <th>week_day_Tuesday</th>\n",
       "      <th>week_day_Wednesday</th>\n",
       "      <th>weather_sit_Light_Snow</th>\n",
       "      <th>weather_sit_Mist_Cloudy</th>\n",
       "    </tr>\n",
       "  </thead>\n",
       "  <tbody>\n",
       "    <tr>\n",
       "      <th>653</th>\n",
       "      <td>1</td>\n",
       "      <td>0</td>\n",
       "      <td>1</td>\n",
       "      <td>23.0423</td>\n",
       "      <td>55.8333</td>\n",
       "      <td>12.208807</td>\n",
       "      <td>7534</td>\n",
       "      <td>0</td>\n",
       "      <td>0</td>\n",
       "      <td>1</td>\n",
       "      <td>...</td>\n",
       "      <td>1</td>\n",
       "      <td>0</td>\n",
       "      <td>0</td>\n",
       "      <td>0</td>\n",
       "      <td>0</td>\n",
       "      <td>0</td>\n",
       "      <td>1</td>\n",
       "      <td>0</td>\n",
       "      <td>0</td>\n",
       "      <td>0</td>\n",
       "    </tr>\n",
       "    <tr>\n",
       "      <th>576</th>\n",
       "      <td>1</td>\n",
       "      <td>0</td>\n",
       "      <td>1</td>\n",
       "      <td>33.1448</td>\n",
       "      <td>70.4167</td>\n",
       "      <td>11.083475</td>\n",
       "      <td>7216</td>\n",
       "      <td>0</td>\n",
       "      <td>0</td>\n",
       "      <td>0</td>\n",
       "      <td>...</td>\n",
       "      <td>0</td>\n",
       "      <td>0</td>\n",
       "      <td>0</td>\n",
       "      <td>0</td>\n",
       "      <td>0</td>\n",
       "      <td>0</td>\n",
       "      <td>1</td>\n",
       "      <td>0</td>\n",
       "      <td>0</td>\n",
       "      <td>0</td>\n",
       "    </tr>\n",
       "    <tr>\n",
       "      <th>426</th>\n",
       "      <td>1</td>\n",
       "      <td>0</td>\n",
       "      <td>0</td>\n",
       "      <td>20.6746</td>\n",
       "      <td>62.1250</td>\n",
       "      <td>10.792293</td>\n",
       "      <td>4066</td>\n",
       "      <td>1</td>\n",
       "      <td>0</td>\n",
       "      <td>0</td>\n",
       "      <td>...</td>\n",
       "      <td>0</td>\n",
       "      <td>0</td>\n",
       "      <td>0</td>\n",
       "      <td>1</td>\n",
       "      <td>0</td>\n",
       "      <td>0</td>\n",
       "      <td>0</td>\n",
       "      <td>0</td>\n",
       "      <td>0</td>\n",
       "      <td>1</td>\n",
       "    </tr>\n",
       "    <tr>\n",
       "      <th>728</th>\n",
       "      <td>1</td>\n",
       "      <td>0</td>\n",
       "      <td>0</td>\n",
       "      <td>11.5850</td>\n",
       "      <td>48.3333</td>\n",
       "      <td>23.500518</td>\n",
       "      <td>1796</td>\n",
       "      <td>1</td>\n",
       "      <td>0</td>\n",
       "      <td>0</td>\n",
       "      <td>...</td>\n",
       "      <td>0</td>\n",
       "      <td>0</td>\n",
       "      <td>0</td>\n",
       "      <td>0</td>\n",
       "      <td>1</td>\n",
       "      <td>0</td>\n",
       "      <td>0</td>\n",
       "      <td>0</td>\n",
       "      <td>0</td>\n",
       "      <td>0</td>\n",
       "    </tr>\n",
       "    <tr>\n",
       "      <th>482</th>\n",
       "      <td>1</td>\n",
       "      <td>0</td>\n",
       "      <td>0</td>\n",
       "      <td>18.8752</td>\n",
       "      <td>48.9583</td>\n",
       "      <td>8.708325</td>\n",
       "      <td>4220</td>\n",
       "      <td>0</td>\n",
       "      <td>1</td>\n",
       "      <td>0</td>\n",
       "      <td>...</td>\n",
       "      <td>0</td>\n",
       "      <td>0</td>\n",
       "      <td>0</td>\n",
       "      <td>1</td>\n",
       "      <td>0</td>\n",
       "      <td>0</td>\n",
       "      <td>0</td>\n",
       "      <td>0</td>\n",
       "      <td>0</td>\n",
       "      <td>1</td>\n",
       "    </tr>\n",
       "  </tbody>\n",
       "</table>\n",
       "<p>5 rows × 29 columns</p>\n",
       "</div>"
      ],
      "text/plain": [
       "     year  is_holiday  is_working_day  a_temperature  humidity  wind_speed  \\\n",
       "653     1           0               1        23.0423   55.8333   12.208807   \n",
       "576     1           0               1        33.1448   70.4167   11.083475   \n",
       "426     1           0               0        20.6746   62.1250   10.792293   \n",
       "728     1           0               0        11.5850   48.3333   23.500518   \n",
       "482     1           0               0        18.8752   48.9583    8.708325   \n",
       "\n",
       "     count  season_Spring  season_Summer  season_Winter  ...  month_Oct  \\\n",
       "653   7534              0              0              1  ...          1   \n",
       "576   7216              0              0              0  ...          0   \n",
       "426   4066              1              0              0  ...          0   \n",
       "728   1796              1              0              0  ...          0   \n",
       "482   4220              0              1              0  ...          0   \n",
       "\n",
       "     month_Sep  week_day_Monday  week_day_Saturday  week_day_Sunday  \\\n",
       "653          0                0                  0                0   \n",
       "576          0                0                  0                0   \n",
       "426          0                0                  1                0   \n",
       "728          0                0                  0                1   \n",
       "482          0                0                  1                0   \n",
       "\n",
       "     week_day_Thursday  week_day_Tuesday  week_day_Wednesday  \\\n",
       "653                  0                 1                   0   \n",
       "576                  0                 1                   0   \n",
       "426                  0                 0                   0   \n",
       "728                  0                 0                   0   \n",
       "482                  0                 0                   0   \n",
       "\n",
       "     weather_sit_Light_Snow  weather_sit_Mist_Cloudy  \n",
       "653                       0                        0  \n",
       "576                       0                        0  \n",
       "426                       0                        1  \n",
       "728                       0                        0  \n",
       "482                       0                        1  \n",
       "\n",
       "[5 rows x 29 columns]"
      ]
     },
     "execution_count": 27,
     "metadata": {},
     "output_type": "execute_result"
    }
   ],
   "source": [
    "#Inspect independent variables\n",
    "bike_data_train.head()"
   ]
  },
  {
   "cell_type": "code",
   "execution_count": 28,
   "id": "7baa1369",
   "metadata": {},
   "outputs": [
    {
     "name": "stdout",
     "output_type": "stream",
     "text": [
      "(510, 29)\n",
      "(219, 29)\n"
     ]
    }
   ],
   "source": [
    "# Check shape and size for train and test fro independent variables\n",
    "print(bike_data_train.shape)\n",
    "print(bike_data_test.shape)"
   ]
  },
  {
   "cell_type": "markdown",
   "id": "82319dc4",
   "metadata": {},
   "source": [
    "__d. Feature Scaling__"
   ]
  },
  {
   "cell_type": "code",
   "execution_count": 29,
   "id": "4f9c7a20",
   "metadata": {},
   "outputs": [],
   "source": [
    "num_vars = ['a_temperature','humidity','wind_speed']\n",
    "\n",
    "#Use Normalized scaler to scale\n",
    "scaler = MinMaxScaler()\n",
    "\n",
    "#Fit and transform training set only\n",
    "bike_data_train[num_vars] = scaler.fit_transform(bike_data_train[num_vars])"
   ]
  },
  {
   "cell_type": "code",
   "execution_count": 30,
   "id": "42eb4fef",
   "metadata": {},
   "outputs": [
    {
     "data": {
      "text/html": [
       "<div>\n",
       "<style scoped>\n",
       "    .dataframe tbody tr th:only-of-type {\n",
       "        vertical-align: middle;\n",
       "    }\n",
       "\n",
       "    .dataframe tbody tr th {\n",
       "        vertical-align: top;\n",
       "    }\n",
       "\n",
       "    .dataframe thead th {\n",
       "        text-align: right;\n",
       "    }\n",
       "</style>\n",
       "<table border=\"1\" class=\"dataframe\">\n",
       "  <thead>\n",
       "    <tr style=\"text-align: right;\">\n",
       "      <th></th>\n",
       "      <th>year</th>\n",
       "      <th>is_holiday</th>\n",
       "      <th>is_working_day</th>\n",
       "      <th>a_temperature</th>\n",
       "      <th>humidity</th>\n",
       "      <th>wind_speed</th>\n",
       "      <th>count</th>\n",
       "      <th>season_Spring</th>\n",
       "      <th>season_Summer</th>\n",
       "      <th>season_Winter</th>\n",
       "      <th>...</th>\n",
       "      <th>month_Oct</th>\n",
       "      <th>month_Sep</th>\n",
       "      <th>week_day_Monday</th>\n",
       "      <th>week_day_Saturday</th>\n",
       "      <th>week_day_Sunday</th>\n",
       "      <th>week_day_Thursday</th>\n",
       "      <th>week_day_Tuesday</th>\n",
       "      <th>week_day_Wednesday</th>\n",
       "      <th>weather_sit_Light_Snow</th>\n",
       "      <th>weather_sit_Mist_Cloudy</th>\n",
       "    </tr>\n",
       "  </thead>\n",
       "  <tbody>\n",
       "    <tr>\n",
       "      <th>653</th>\n",
       "      <td>1</td>\n",
       "      <td>0</td>\n",
       "      <td>1</td>\n",
       "      <td>0.501133</td>\n",
       "      <td>0.575354</td>\n",
       "      <td>0.300794</td>\n",
       "      <td>7534</td>\n",
       "      <td>0</td>\n",
       "      <td>0</td>\n",
       "      <td>1</td>\n",
       "      <td>...</td>\n",
       "      <td>1</td>\n",
       "      <td>0</td>\n",
       "      <td>0</td>\n",
       "      <td>0</td>\n",
       "      <td>0</td>\n",
       "      <td>0</td>\n",
       "      <td>1</td>\n",
       "      <td>0</td>\n",
       "      <td>0</td>\n",
       "      <td>0</td>\n",
       "    </tr>\n",
       "    <tr>\n",
       "      <th>576</th>\n",
       "      <td>1</td>\n",
       "      <td>0</td>\n",
       "      <td>1</td>\n",
       "      <td>0.766351</td>\n",
       "      <td>0.725633</td>\n",
       "      <td>0.264686</td>\n",
       "      <td>7216</td>\n",
       "      <td>0</td>\n",
       "      <td>0</td>\n",
       "      <td>0</td>\n",
       "      <td>...</td>\n",
       "      <td>0</td>\n",
       "      <td>0</td>\n",
       "      <td>0</td>\n",
       "      <td>0</td>\n",
       "      <td>0</td>\n",
       "      <td>0</td>\n",
       "      <td>1</td>\n",
       "      <td>0</td>\n",
       "      <td>0</td>\n",
       "      <td>0</td>\n",
       "    </tr>\n",
       "    <tr>\n",
       "      <th>426</th>\n",
       "      <td>1</td>\n",
       "      <td>0</td>\n",
       "      <td>0</td>\n",
       "      <td>0.438975</td>\n",
       "      <td>0.640189</td>\n",
       "      <td>0.255342</td>\n",
       "      <td>4066</td>\n",
       "      <td>1</td>\n",
       "      <td>0</td>\n",
       "      <td>0</td>\n",
       "      <td>...</td>\n",
       "      <td>0</td>\n",
       "      <td>0</td>\n",
       "      <td>0</td>\n",
       "      <td>1</td>\n",
       "      <td>0</td>\n",
       "      <td>0</td>\n",
       "      <td>0</td>\n",
       "      <td>0</td>\n",
       "      <td>0</td>\n",
       "      <td>1</td>\n",
       "    </tr>\n",
       "    <tr>\n",
       "      <th>728</th>\n",
       "      <td>1</td>\n",
       "      <td>0</td>\n",
       "      <td>0</td>\n",
       "      <td>0.200348</td>\n",
       "      <td>0.498067</td>\n",
       "      <td>0.663106</td>\n",
       "      <td>1796</td>\n",
       "      <td>1</td>\n",
       "      <td>0</td>\n",
       "      <td>0</td>\n",
       "      <td>...</td>\n",
       "      <td>0</td>\n",
       "      <td>0</td>\n",
       "      <td>0</td>\n",
       "      <td>0</td>\n",
       "      <td>1</td>\n",
       "      <td>0</td>\n",
       "      <td>0</td>\n",
       "      <td>0</td>\n",
       "      <td>0</td>\n",
       "      <td>0</td>\n",
       "    </tr>\n",
       "    <tr>\n",
       "      <th>482</th>\n",
       "      <td>1</td>\n",
       "      <td>0</td>\n",
       "      <td>0</td>\n",
       "      <td>0.391735</td>\n",
       "      <td>0.504508</td>\n",
       "      <td>0.188475</td>\n",
       "      <td>4220</td>\n",
       "      <td>0</td>\n",
       "      <td>1</td>\n",
       "      <td>0</td>\n",
       "      <td>...</td>\n",
       "      <td>0</td>\n",
       "      <td>0</td>\n",
       "      <td>0</td>\n",
       "      <td>1</td>\n",
       "      <td>0</td>\n",
       "      <td>0</td>\n",
       "      <td>0</td>\n",
       "      <td>0</td>\n",
       "      <td>0</td>\n",
       "      <td>1</td>\n",
       "    </tr>\n",
       "  </tbody>\n",
       "</table>\n",
       "<p>5 rows × 29 columns</p>\n",
       "</div>"
      ],
      "text/plain": [
       "     year  is_holiday  is_working_day  a_temperature  humidity  wind_speed  \\\n",
       "653     1           0               1       0.501133  0.575354    0.300794   \n",
       "576     1           0               1       0.766351  0.725633    0.264686   \n",
       "426     1           0               0       0.438975  0.640189    0.255342   \n",
       "728     1           0               0       0.200348  0.498067    0.663106   \n",
       "482     1           0               0       0.391735  0.504508    0.188475   \n",
       "\n",
       "     count  season_Spring  season_Summer  season_Winter  ...  month_Oct  \\\n",
       "653   7534              0              0              1  ...          1   \n",
       "576   7216              0              0              0  ...          0   \n",
       "426   4066              1              0              0  ...          0   \n",
       "728   1796              1              0              0  ...          0   \n",
       "482   4220              0              1              0  ...          0   \n",
       "\n",
       "     month_Sep  week_day_Monday  week_day_Saturday  week_day_Sunday  \\\n",
       "653          0                0                  0                0   \n",
       "576          0                0                  0                0   \n",
       "426          0                0                  1                0   \n",
       "728          0                0                  0                1   \n",
       "482          0                0                  1                0   \n",
       "\n",
       "     week_day_Thursday  week_day_Tuesday  week_day_Wednesday  \\\n",
       "653                  0                 1                   0   \n",
       "576                  0                 1                   0   \n",
       "426                  0                 0                   0   \n",
       "728                  0                 0                   0   \n",
       "482                  0                 0                   0   \n",
       "\n",
       "     weather_sit_Light_Snow  weather_sit_Mist_Cloudy  \n",
       "653                       0                        0  \n",
       "576                       0                        0  \n",
       "426                       0                        1  \n",
       "728                       0                        0  \n",
       "482                       0                        1  \n",
       "\n",
       "[5 rows x 29 columns]"
      ]
     },
     "execution_count": 30,
     "metadata": {},
     "output_type": "execute_result"
    }
   ],
   "source": [
    "bike_data_train.head()"
   ]
  },
  {
   "cell_type": "code",
   "execution_count": 31,
   "id": "6e7ec323",
   "metadata": {
    "scrolled": true
   },
   "outputs": [
    {
     "data": {
      "text/html": [
       "<div>\n",
       "<style scoped>\n",
       "    .dataframe tbody tr th:only-of-type {\n",
       "        vertical-align: middle;\n",
       "    }\n",
       "\n",
       "    .dataframe tbody tr th {\n",
       "        vertical-align: top;\n",
       "    }\n",
       "\n",
       "    .dataframe thead th {\n",
       "        text-align: right;\n",
       "    }\n",
       "</style>\n",
       "<table border=\"1\" class=\"dataframe\">\n",
       "  <thead>\n",
       "    <tr style=\"text-align: right;\">\n",
       "      <th></th>\n",
       "      <th>year</th>\n",
       "      <th>is_holiday</th>\n",
       "      <th>is_working_day</th>\n",
       "      <th>a_temperature</th>\n",
       "      <th>humidity</th>\n",
       "      <th>wind_speed</th>\n",
       "      <th>count</th>\n",
       "      <th>season_Spring</th>\n",
       "      <th>season_Summer</th>\n",
       "      <th>season_Winter</th>\n",
       "      <th>...</th>\n",
       "      <th>month_Oct</th>\n",
       "      <th>month_Sep</th>\n",
       "      <th>week_day_Monday</th>\n",
       "      <th>week_day_Saturday</th>\n",
       "      <th>week_day_Sunday</th>\n",
       "      <th>week_day_Thursday</th>\n",
       "      <th>week_day_Tuesday</th>\n",
       "      <th>week_day_Wednesday</th>\n",
       "      <th>weather_sit_Light_Snow</th>\n",
       "      <th>weather_sit_Mist_Cloudy</th>\n",
       "    </tr>\n",
       "  </thead>\n",
       "  <tbody>\n",
       "    <tr>\n",
       "      <th>count</th>\n",
       "      <td>510.000000</td>\n",
       "      <td>510.000000</td>\n",
       "      <td>510.000000</td>\n",
       "      <td>510.000000</td>\n",
       "      <td>510.000000</td>\n",
       "      <td>510.000000</td>\n",
       "      <td>510.000000</td>\n",
       "      <td>510.000000</td>\n",
       "      <td>510.000000</td>\n",
       "      <td>510.00000</td>\n",
       "      <td>...</td>\n",
       "      <td>510.000000</td>\n",
       "      <td>510.000000</td>\n",
       "      <td>510.000000</td>\n",
       "      <td>510.000000</td>\n",
       "      <td>510.000000</td>\n",
       "      <td>510.000000</td>\n",
       "      <td>510.000000</td>\n",
       "      <td>510.000000</td>\n",
       "      <td>510.000000</td>\n",
       "      <td>510.000000</td>\n",
       "    </tr>\n",
       "    <tr>\n",
       "      <th>mean</th>\n",
       "      <td>0.507843</td>\n",
       "      <td>0.025490</td>\n",
       "      <td>0.676471</td>\n",
       "      <td>0.512989</td>\n",
       "      <td>0.650369</td>\n",
       "      <td>0.320768</td>\n",
       "      <td>4486.382353</td>\n",
       "      <td>0.243137</td>\n",
       "      <td>0.245098</td>\n",
       "      <td>0.24902</td>\n",
       "      <td>...</td>\n",
       "      <td>0.086275</td>\n",
       "      <td>0.080392</td>\n",
       "      <td>0.150980</td>\n",
       "      <td>0.154902</td>\n",
       "      <td>0.143137</td>\n",
       "      <td>0.133333</td>\n",
       "      <td>0.131373</td>\n",
       "      <td>0.158824</td>\n",
       "      <td>0.029412</td>\n",
       "      <td>0.343137</td>\n",
       "    </tr>\n",
       "    <tr>\n",
       "      <th>std</th>\n",
       "      <td>0.500429</td>\n",
       "      <td>0.157763</td>\n",
       "      <td>0.468282</td>\n",
       "      <td>0.212385</td>\n",
       "      <td>0.145882</td>\n",
       "      <td>0.169797</td>\n",
       "      <td>1952.158739</td>\n",
       "      <td>0.429398</td>\n",
       "      <td>0.430568</td>\n",
       "      <td>0.43287</td>\n",
       "      <td>...</td>\n",
       "      <td>0.281045</td>\n",
       "      <td>0.272166</td>\n",
       "      <td>0.358381</td>\n",
       "      <td>0.362166</td>\n",
       "      <td>0.350557</td>\n",
       "      <td>0.340268</td>\n",
       "      <td>0.338139</td>\n",
       "      <td>0.365870</td>\n",
       "      <td>0.169124</td>\n",
       "      <td>0.475223</td>\n",
       "    </tr>\n",
       "    <tr>\n",
       "      <th>min</th>\n",
       "      <td>0.000000</td>\n",
       "      <td>0.000000</td>\n",
       "      <td>0.000000</td>\n",
       "      <td>0.000000</td>\n",
       "      <td>0.000000</td>\n",
       "      <td>0.000000</td>\n",
       "      <td>22.000000</td>\n",
       "      <td>0.000000</td>\n",
       "      <td>0.000000</td>\n",
       "      <td>0.00000</td>\n",
       "      <td>...</td>\n",
       "      <td>0.000000</td>\n",
       "      <td>0.000000</td>\n",
       "      <td>0.000000</td>\n",
       "      <td>0.000000</td>\n",
       "      <td>0.000000</td>\n",
       "      <td>0.000000</td>\n",
       "      <td>0.000000</td>\n",
       "      <td>0.000000</td>\n",
       "      <td>0.000000</td>\n",
       "      <td>0.000000</td>\n",
       "    </tr>\n",
       "    <tr>\n",
       "      <th>25%</th>\n",
       "      <td>0.000000</td>\n",
       "      <td>0.000000</td>\n",
       "      <td>0.000000</td>\n",
       "      <td>0.332086</td>\n",
       "      <td>0.538643</td>\n",
       "      <td>0.199179</td>\n",
       "      <td>3120.000000</td>\n",
       "      <td>0.000000</td>\n",
       "      <td>0.000000</td>\n",
       "      <td>0.00000</td>\n",
       "      <td>...</td>\n",
       "      <td>0.000000</td>\n",
       "      <td>0.000000</td>\n",
       "      <td>0.000000</td>\n",
       "      <td>0.000000</td>\n",
       "      <td>0.000000</td>\n",
       "      <td>0.000000</td>\n",
       "      <td>0.000000</td>\n",
       "      <td>0.000000</td>\n",
       "      <td>0.000000</td>\n",
       "      <td>0.000000</td>\n",
       "    </tr>\n",
       "    <tr>\n",
       "      <th>50%</th>\n",
       "      <td>1.000000</td>\n",
       "      <td>0.000000</td>\n",
       "      <td>1.000000</td>\n",
       "      <td>0.526811</td>\n",
       "      <td>0.653714</td>\n",
       "      <td>0.296763</td>\n",
       "      <td>4530.000000</td>\n",
       "      <td>0.000000</td>\n",
       "      <td>0.000000</td>\n",
       "      <td>0.00000</td>\n",
       "      <td>...</td>\n",
       "      <td>0.000000</td>\n",
       "      <td>0.000000</td>\n",
       "      <td>0.000000</td>\n",
       "      <td>0.000000</td>\n",
       "      <td>0.000000</td>\n",
       "      <td>0.000000</td>\n",
       "      <td>0.000000</td>\n",
       "      <td>0.000000</td>\n",
       "      <td>0.000000</td>\n",
       "      <td>0.000000</td>\n",
       "    </tr>\n",
       "    <tr>\n",
       "      <th>75%</th>\n",
       "      <td>1.000000</td>\n",
       "      <td>0.000000</td>\n",
       "      <td>1.000000</td>\n",
       "      <td>0.688457</td>\n",
       "      <td>0.754830</td>\n",
       "      <td>0.414447</td>\n",
       "      <td>5973.500000</td>\n",
       "      <td>0.000000</td>\n",
       "      <td>0.000000</td>\n",
       "      <td>0.00000</td>\n",
       "      <td>...</td>\n",
       "      <td>0.000000</td>\n",
       "      <td>0.000000</td>\n",
       "      <td>0.000000</td>\n",
       "      <td>0.000000</td>\n",
       "      <td>0.000000</td>\n",
       "      <td>0.000000</td>\n",
       "      <td>0.000000</td>\n",
       "      <td>0.000000</td>\n",
       "      <td>0.000000</td>\n",
       "      <td>1.000000</td>\n",
       "    </tr>\n",
       "    <tr>\n",
       "      <th>max</th>\n",
       "      <td>1.000000</td>\n",
       "      <td>1.000000</td>\n",
       "      <td>1.000000</td>\n",
       "      <td>1.000000</td>\n",
       "      <td>1.000000</td>\n",
       "      <td>1.000000</td>\n",
       "      <td>8714.000000</td>\n",
       "      <td>1.000000</td>\n",
       "      <td>1.000000</td>\n",
       "      <td>1.00000</td>\n",
       "      <td>...</td>\n",
       "      <td>1.000000</td>\n",
       "      <td>1.000000</td>\n",
       "      <td>1.000000</td>\n",
       "      <td>1.000000</td>\n",
       "      <td>1.000000</td>\n",
       "      <td>1.000000</td>\n",
       "      <td>1.000000</td>\n",
       "      <td>1.000000</td>\n",
       "      <td>1.000000</td>\n",
       "      <td>1.000000</td>\n",
       "    </tr>\n",
       "  </tbody>\n",
       "</table>\n",
       "<p>8 rows × 29 columns</p>\n",
       "</div>"
      ],
      "text/plain": [
       "             year  is_holiday  is_working_day  a_temperature    humidity  \\\n",
       "count  510.000000  510.000000      510.000000     510.000000  510.000000   \n",
       "mean     0.507843    0.025490        0.676471       0.512989    0.650369   \n",
       "std      0.500429    0.157763        0.468282       0.212385    0.145882   \n",
       "min      0.000000    0.000000        0.000000       0.000000    0.000000   \n",
       "25%      0.000000    0.000000        0.000000       0.332086    0.538643   \n",
       "50%      1.000000    0.000000        1.000000       0.526811    0.653714   \n",
       "75%      1.000000    0.000000        1.000000       0.688457    0.754830   \n",
       "max      1.000000    1.000000        1.000000       1.000000    1.000000   \n",
       "\n",
       "       wind_speed        count  season_Spring  season_Summer  season_Winter  \\\n",
       "count  510.000000   510.000000     510.000000     510.000000      510.00000   \n",
       "mean     0.320768  4486.382353       0.243137       0.245098        0.24902   \n",
       "std      0.169797  1952.158739       0.429398       0.430568        0.43287   \n",
       "min      0.000000    22.000000       0.000000       0.000000        0.00000   \n",
       "25%      0.199179  3120.000000       0.000000       0.000000        0.00000   \n",
       "50%      0.296763  4530.000000       0.000000       0.000000        0.00000   \n",
       "75%      0.414447  5973.500000       0.000000       0.000000        0.00000   \n",
       "max      1.000000  8714.000000       1.000000       1.000000        1.00000   \n",
       "\n",
       "       ...   month_Oct   month_Sep  week_day_Monday  week_day_Saturday  \\\n",
       "count  ...  510.000000  510.000000       510.000000         510.000000   \n",
       "mean   ...    0.086275    0.080392         0.150980           0.154902   \n",
       "std    ...    0.281045    0.272166         0.358381           0.362166   \n",
       "min    ...    0.000000    0.000000         0.000000           0.000000   \n",
       "25%    ...    0.000000    0.000000         0.000000           0.000000   \n",
       "50%    ...    0.000000    0.000000         0.000000           0.000000   \n",
       "75%    ...    0.000000    0.000000         0.000000           0.000000   \n",
       "max    ...    1.000000    1.000000         1.000000           1.000000   \n",
       "\n",
       "       week_day_Sunday  week_day_Thursday  week_day_Tuesday  \\\n",
       "count       510.000000         510.000000        510.000000   \n",
       "mean          0.143137           0.133333          0.131373   \n",
       "std           0.350557           0.340268          0.338139   \n",
       "min           0.000000           0.000000          0.000000   \n",
       "25%           0.000000           0.000000          0.000000   \n",
       "50%           0.000000           0.000000          0.000000   \n",
       "75%           0.000000           0.000000          0.000000   \n",
       "max           1.000000           1.000000          1.000000   \n",
       "\n",
       "       week_day_Wednesday  weather_sit_Light_Snow  weather_sit_Mist_Cloudy  \n",
       "count          510.000000              510.000000               510.000000  \n",
       "mean             0.158824                0.029412                 0.343137  \n",
       "std              0.365870                0.169124                 0.475223  \n",
       "min              0.000000                0.000000                 0.000000  \n",
       "25%              0.000000                0.000000                 0.000000  \n",
       "50%              0.000000                0.000000                 0.000000  \n",
       "75%              0.000000                0.000000                 1.000000  \n",
       "max              1.000000                1.000000                 1.000000  \n",
       "\n",
       "[8 rows x 29 columns]"
      ]
     },
     "execution_count": 31,
     "metadata": {},
     "output_type": "execute_result"
    }
   ],
   "source": [
    "#Inspect status of Training set after scaling\n",
    "bike_data_train.describe()"
   ]
  },
  {
   "cell_type": "markdown",
   "id": "e9fe627a",
   "metadata": {},
   "source": [
    "### 5. Model Building"
   ]
  },
  {
   "cell_type": "markdown",
   "id": "3f326c1d",
   "metadata": {},
   "source": [
    "__a. Divide train set into X and y for model building__"
   ]
  },
  {
   "cell_type": "code",
   "execution_count": 32,
   "id": "89163ad8",
   "metadata": {},
   "outputs": [],
   "source": [
    "# y to contain only target variable\n",
    "y_train = bike_data_train.pop('count')\n",
    "\n",
    "#X is all remainign variable also our independent variables\n",
    "X_train = bike_data_train"
   ]
  },
  {
   "cell_type": "markdown",
   "id": "a0542c72",
   "metadata": {},
   "source": [
    "__b. Feature Selection using RFE__"
   ]
  },
  {
   "cell_type": "code",
   "execution_count": 33,
   "id": "0469b1c4",
   "metadata": {},
   "outputs": [],
   "source": [
    "lm = LinearRegression()\n",
    "lm.fit(X_train, y_train)\n",
    "# Select top 15  features\n",
    "rfe = RFE(lm, 15)           \n",
    "rfe = rfe.fit(X_train, y_train)"
   ]
  },
  {
   "cell_type": "code",
   "execution_count": 34,
   "id": "d553115d",
   "metadata": {},
   "outputs": [
    {
     "data": {
      "text/plain": [
       "[('year', True, 1),\n",
       " ('is_holiday', True, 1),\n",
       " ('is_working_day', False, 2),\n",
       " ('a_temperature', True, 1),\n",
       " ('humidity', True, 1),\n",
       " ('wind_speed', True, 1),\n",
       " ('season_Spring', True, 1),\n",
       " ('season_Summer', False, 5),\n",
       " ('season_Winter', True, 1),\n",
       " ('month_Aug', False, 6),\n",
       " ('month_Dec', True, 1),\n",
       " ('month_Feb', False, 3),\n",
       " ('month_Jan', True, 1),\n",
       " ('month_Jul', True, 1),\n",
       " ('month_Jun', False, 7),\n",
       " ('month_Mar', False, 14),\n",
       " ('month_May', False, 4),\n",
       " ('month_Nov', True, 1),\n",
       " ('month_Oct', False, 12),\n",
       " ('month_Sep', True, 1),\n",
       " ('week_day_Monday', False, 9),\n",
       " ('week_day_Saturday', True, 1),\n",
       " ('week_day_Sunday', False, 8),\n",
       " ('week_day_Thursday', False, 11),\n",
       " ('week_day_Tuesday', False, 10),\n",
       " ('week_day_Wednesday', False, 13),\n",
       " ('weather_sit_Light_Snow', True, 1),\n",
       " ('weather_sit_Mist_Cloudy', True, 1)]"
      ]
     },
     "execution_count": 34,
     "metadata": {},
     "output_type": "execute_result"
    }
   ],
   "source": [
    "#Columns selected by RFE and their weights\n",
    "list(zip(X_train.columns,rfe.support_,rfe.ranking_))"
   ]
  },
  {
   "cell_type": "code",
   "execution_count": 35,
   "id": "be7f4eb7",
   "metadata": {},
   "outputs": [
    {
     "data": {
      "text/plain": [
       "Index(['year', 'is_holiday', 'a_temperature', 'humidity', 'wind_speed',\n",
       "       'season_Spring', 'season_Winter', 'month_Dec', 'month_Jan', 'month_Jul',\n",
       "       'month_Nov', 'month_Sep', 'week_day_Saturday', 'weather_sit_Light_Snow',\n",
       "       'weather_sit_Mist_Cloudy'],\n",
       "      dtype='object')"
      ]
     },
     "execution_count": 35,
     "metadata": {},
     "output_type": "execute_result"
    }
   ],
   "source": [
    "rfe_cols = X_train.columns[rfe.support_]\n",
    "rfe_cols"
   ]
  },
  {
   "cell_type": "code",
   "execution_count": 36,
   "id": "e0c42b23",
   "metadata": {},
   "outputs": [
    {
     "data": {
      "text/plain": [
       "(510, 28)"
      ]
     },
     "execution_count": 36,
     "metadata": {},
     "output_type": "execute_result"
    }
   ],
   "source": [
    "X_train.shape"
   ]
  },
  {
   "cell_type": "code",
   "execution_count": 37,
   "id": "7e7b6529",
   "metadata": {},
   "outputs": [],
   "source": [
    "#Function to build a linear model using statsmodel api\n",
    "def build_model(selectedCols):\n",
    "    X_train_sm = sm.add_constant(X_train[selectedCols])\n",
    "    lm = sm.OLS(y_train, X_train_sm).fit()\n",
    "    #print(lm.params)\n",
    "    print(lm.summary())\n",
    "    return lm"
   ]
  },
  {
   "cell_type": "code",
   "execution_count": 38,
   "id": "bd03c4a4",
   "metadata": {},
   "outputs": [],
   "source": [
    "#Function to calculate VIFs and print them\n",
    "def get_vif(selectedCols):\n",
    "    X = X_train[selectedCols]\n",
    "    vif = pd.DataFrame()\n",
    "    vif['Features'] = X.columns\n",
    "    vif['VIF'] = [variance_inflation_factor(X.values, i) for i in range(X.shape[1])]\n",
    "    vif['VIF'] = round(vif['VIF'],2)\n",
    "    print(vif.sort_values(by='VIF',ascending=False))"
   ]
  },
  {
   "cell_type": "markdown",
   "id": "97bd1bb1",
   "metadata": {},
   "source": [
    "### Model 1"
   ]
  },
  {
   "cell_type": "code",
   "execution_count": 39,
   "id": "137be51c",
   "metadata": {
    "scrolled": true
   },
   "outputs": [
    {
     "name": "stdout",
     "output_type": "stream",
     "text": [
      "                            OLS Regression Results                            \n",
      "==============================================================================\n",
      "Dep. Variable:                  count   R-squared:                       0.842\n",
      "Model:                            OLS   Adj. R-squared:                  0.837\n",
      "Method:                 Least Squares   F-statistic:                     175.4\n",
      "Date:                Wed, 16 Mar 2022   Prob (F-statistic):          9.67e-187\n",
      "Time:                        20:57:28   Log-Likelihood:                -4116.9\n",
      "No. Observations:                 510   AIC:                             8266.\n",
      "Df Residuals:                     494   BIC:                             8334.\n",
      "Df Model:                          15                                         \n",
      "Covariance Type:            nonrobust                                         \n",
      "===========================================================================================\n",
      "                              coef    std err          t      P>|t|      [0.025      0.975]\n",
      "-------------------------------------------------------------------------------------------\n",
      "const                    3204.7688    278.590     11.504      0.000    2657.401    3752.136\n",
      "year                     2021.7452     70.963     28.490      0.000    1882.319    2161.171\n",
      "is_holiday               -731.1442    225.465     -3.243      0.001   -1174.133    -288.156\n",
      "a_temperature            3885.1378    302.922     12.826      0.000    3289.963    4480.313\n",
      "humidity                -1283.7098    331.391     -3.874      0.000   -1934.819    -632.600\n",
      "wind_speed              -1470.3591    226.291     -6.498      0.000   -1914.970   -1025.748\n",
      "season_Spring            -929.9243    133.336     -6.974      0.000   -1191.899    -667.949\n",
      "season_Winter             575.0151    122.260      4.703      0.000     334.801     815.230\n",
      "month_Dec                -421.3898    150.989     -2.791      0.005    -718.049    -124.731\n",
      "month_Jan                -447.8580    157.925     -2.836      0.005    -758.145    -137.571\n",
      "month_Jul                -589.9380    149.906     -3.935      0.000    -884.471    -295.405\n",
      "month_Nov                -436.1798    162.216     -2.689      0.007    -754.897    -117.462\n",
      "month_Sep                 508.9957    135.705      3.751      0.000     242.365     775.627\n",
      "week_day_Saturday         158.0845     97.183      1.627      0.104     -32.859     349.028\n",
      "weather_sit_Light_Snow  -2176.5663    232.030     -9.381      0.000   -2632.453   -1720.679\n",
      "weather_sit_Mist_Cloudy  -506.1352     92.016     -5.501      0.000    -686.926    -325.345\n",
      "==============================================================================\n",
      "Omnibus:                       73.887   Durbin-Watson:                   1.993\n",
      "Prob(Omnibus):                  0.000   Jarque-Bera (JB):              193.568\n",
      "Skew:                          -0.724   Prob(JB):                     9.28e-43\n",
      "Kurtosis:                       5.648   Cond. No.                         18.6\n",
      "==============================================================================\n",
      "\n",
      "Notes:\n",
      "[1] Standard Errors assume that the covariance matrix of the errors is correctly specified.\n",
      "                   Features    VIF\n",
      "3                  humidity  25.08\n",
      "2             a_temperature  16.88\n",
      "4                wind_speed   4.03\n",
      "6             season_Winter   2.93\n",
      "5             season_Spring   2.89\n",
      "14  weather_sit_Mist_Cloudy   2.26\n",
      "0                      year   2.06\n",
      "10                month_Nov   1.82\n",
      "8                 month_Jan   1.75\n",
      "7                 month_Dec   1.54\n",
      "9                 month_Jul   1.40\n",
      "13   weather_sit_Light_Snow   1.25\n",
      "11                month_Sep   1.22\n",
      "12        week_day_Saturday   1.19\n",
      "1                is_holiday   1.06\n"
     ]
    }
   ],
   "source": [
    "# selecting all the columns supported by RFE\n",
    "cols = ['year', 'is_holiday', 'a_temperature', 'humidity', 'wind_speed',\n",
    "       'season_Spring', 'season_Winter', 'month_Dec', 'month_Jan', 'month_Jul',\n",
    "       'month_Nov', 'month_Sep', 'week_day_Saturday', 'weather_sit_Light_Snow',\n",
    "       'weather_sit_Mist_Cloudy']\n",
    "build_model(cols)\n",
    "get_vif(cols)"
   ]
  },
  {
   "cell_type": "markdown",
   "id": "e707cfa5",
   "metadata": {},
   "source": [
    "All the variables have p-value less than 0.05. However, __humidity has a high VIF of 25.08__. Hence, dropping humidity from the list of selected columns. R-square and Adjusted R-square are __0.842__ and __0.837__ respectively."
   ]
  },
  {
   "cell_type": "markdown",
   "id": "38de0341",
   "metadata": {},
   "source": [
    "### Model 2"
   ]
  },
  {
   "cell_type": "code",
   "execution_count": 40,
   "id": "f8c88471",
   "metadata": {},
   "outputs": [
    {
     "name": "stdout",
     "output_type": "stream",
     "text": [
      "                            OLS Regression Results                            \n",
      "==============================================================================\n",
      "Dep. Variable:                  count   R-squared:                       0.837\n",
      "Model:                            OLS   Adj. R-squared:                  0.832\n",
      "Method:                 Least Squares   F-statistic:                     181.7\n",
      "Date:                Wed, 16 Mar 2022   Prob (F-statistic):          1.10e-184\n",
      "Time:                        20:57:28   Log-Likelihood:                -4124.6\n",
      "No. Observations:                 510   AIC:                             8279.\n",
      "Df Residuals:                     495   BIC:                             8343.\n",
      "Df Model:                          14                                         \n",
      "Covariance Type:            nonrobust                                         \n",
      "===========================================================================================\n",
      "                              coef    std err          t      P>|t|      [0.025      0.975]\n",
      "-------------------------------------------------------------------------------------------\n",
      "const                    2544.5739    223.473     11.386      0.000    2105.501    2983.647\n",
      "year                     2052.8092     71.499     28.711      0.000    1912.331    2193.288\n",
      "is_holiday               -736.5654    228.628     -3.222      0.001   -1185.766    -287.365\n",
      "a_temperature            3585.8825    297.021     12.073      0.000    3002.305    4169.459\n",
      "wind_speed              -1252.7382    222.286     -5.636      0.000   -1689.478    -815.998\n",
      "season_Spring            -952.3879    135.081     -7.050      0.000   -1217.791    -686.985\n",
      "season_Winter             501.4895    122.475      4.095      0.000     260.855     742.124\n",
      "month_Dec                -470.4180    152.571     -3.083      0.002    -770.185    -170.651\n",
      "month_Jan                -493.4080    159.699     -3.090      0.002    -807.179    -179.637\n",
      "month_Jul                -524.1815    151.035     -3.471      0.001    -820.929    -227.434\n",
      "month_Nov                -431.6390    164.490     -2.624      0.009    -754.824    -108.454\n",
      "month_Sep                 481.0877    137.418      3.501      0.001     211.093     751.082\n",
      "week_day_Saturday         178.4817     98.404      1.814      0.070     -14.859     371.822\n",
      "weather_sit_Light_Snow  -2535.6962    215.692    -11.756      0.000   -2959.480   -2111.912\n",
      "weather_sit_Mist_Cloudy  -711.5003     76.265     -9.329      0.000    -861.343    -561.657\n",
      "==============================================================================\n",
      "Omnibus:                       77.462   Durbin-Watson:                   1.994\n",
      "Prob(Omnibus):                  0.000   Jarque-Bera (JB):              200.699\n",
      "Skew:                          -0.762   Prob(JB):                     2.62e-44\n",
      "Kurtosis:                       5.669   Cond. No.                         15.6\n",
      "==============================================================================\n",
      "\n",
      "Notes:\n",
      "[1] Standard Errors assume that the covariance matrix of the errors is correctly specified.\n",
      "                   Features   VIF\n",
      "2             a_temperature  4.61\n",
      "3                wind_speed  3.98\n",
      "5             season_Winter  2.55\n",
      "4             season_Spring  2.36\n",
      "0                      year  2.06\n",
      "9                 month_Nov  1.80\n",
      "7                 month_Jan  1.65\n",
      "13  weather_sit_Mist_Cloudy  1.53\n",
      "6                 month_Dec  1.46\n",
      "8                 month_Jul  1.35\n",
      "10                month_Sep  1.21\n",
      "11        week_day_Saturday  1.19\n",
      "12   weather_sit_Light_Snow  1.09\n",
      "1                is_holiday  1.06\n"
     ]
    }
   ],
   "source": [
    "#Removing humidity variable\n",
    "cols = ['year', 'is_holiday', 'a_temperature', 'wind_speed',\n",
    "       'season_Spring', 'season_Winter', 'month_Dec', 'month_Jan', 'month_Jul',\n",
    "       'month_Nov', 'month_Sep', 'week_day_Saturday', 'weather_sit_Light_Snow',\n",
    "       'weather_sit_Mist_Cloudy']\n",
    "build_model(cols)\n",
    "get_vif(cols)"
   ]
  },
  {
   "cell_type": "markdown",
   "id": "1ee3df36",
   "metadata": {},
   "source": [
    "__week_day_Saturday__ has p-value more than 0.05. Hence, removing week_day_Saturday from the selected columns."
   ]
  },
  {
   "cell_type": "markdown",
   "id": "32c7162a",
   "metadata": {},
   "source": [
    "### Model 3"
   ]
  },
  {
   "cell_type": "code",
   "execution_count": 41,
   "id": "b7c44af3",
   "metadata": {},
   "outputs": [
    {
     "name": "stdout",
     "output_type": "stream",
     "text": [
      "                            OLS Regression Results                            \n",
      "==============================================================================\n",
      "Dep. Variable:                  count   R-squared:                       0.836\n",
      "Model:                            OLS   Adj. R-squared:                  0.832\n",
      "Method:                 Least Squares   F-statistic:                     194.5\n",
      "Date:                Wed, 16 Mar 2022   Prob (F-statistic):          3.95e-185\n",
      "Time:                        20:57:28   Log-Likelihood:                -4126.3\n",
      "No. Observations:                 510   AIC:                             8281.\n",
      "Df Residuals:                     496   BIC:                             8340.\n",
      "Df Model:                          13                                         \n",
      "Covariance Type:            nonrobust                                         \n",
      "===========================================================================================\n",
      "                              coef    std err          t      P>|t|      [0.025      0.975]\n",
      "-------------------------------------------------------------------------------------------\n",
      "const                    2569.6203    223.560     11.494      0.000    2130.378    3008.862\n",
      "year                     2048.9359     71.632     28.604      0.000    1908.197    2189.675\n",
      "is_holiday               -765.6167    228.592     -3.349      0.001   -1214.745    -316.489\n",
      "a_temperature            3578.6823    297.679     12.022      0.000    2993.815    4163.550\n",
      "wind_speed              -1232.8270    222.527     -5.540      0.000   -1670.038    -795.616\n",
      "season_Spring            -952.6790    135.392     -7.036      0.000   -1218.692    -686.666\n",
      "season_Winter             504.5409    122.746      4.110      0.000     263.376     745.706\n",
      "month_Dec                -461.5599    152.844     -3.020      0.003    -761.862    -161.258\n",
      "month_Jan                -488.6532    160.045     -3.053      0.002    -803.104    -174.203\n",
      "month_Jul                -519.4809    151.361     -3.432      0.001    -816.868    -222.094\n",
      "month_Nov                -435.1542    164.858     -2.640      0.009    -759.060    -111.248\n",
      "month_Sep                 484.0269    137.725      3.514      0.000     213.430     754.623\n",
      "weather_sit_Light_Snow  -2530.9387    216.173    -11.708      0.000   -2955.666   -2106.211\n",
      "weather_sit_Mist_Cloudy  -710.5469     76.439     -9.296      0.000    -860.731    -560.363\n",
      "==============================================================================\n",
      "Omnibus:                       71.564   Durbin-Watson:                   1.993\n",
      "Prob(Omnibus):                  0.000   Jarque-Bera (JB):              193.324\n",
      "Skew:                          -0.692   Prob(JB):                     1.05e-42\n",
      "Kurtosis:                       5.680   Cond. No.                         15.5\n",
      "==============================================================================\n",
      "\n",
      "Notes:\n",
      "[1] Standard Errors assume that the covariance matrix of the errors is correctly specified.\n",
      "                   Features   VIF\n",
      "2             a_temperature  4.57\n",
      "3                wind_speed  3.95\n",
      "5             season_Winter  2.55\n",
      "4             season_Spring  2.35\n",
      "0                      year  2.06\n",
      "9                 month_Nov  1.80\n",
      "7                 month_Jan  1.65\n",
      "12  weather_sit_Mist_Cloudy  1.53\n",
      "6                 month_Dec  1.46\n",
      "8                 month_Jul  1.35\n",
      "10                month_Sep  1.21\n",
      "11   weather_sit_Light_Snow  1.09\n",
      "1                is_holiday  1.06\n"
     ]
    }
   ],
   "source": [
    "#Removing weather_sit_Light_Snow variable\n",
    "cols = ['year', 'is_holiday', 'a_temperature', 'wind_speed',\n",
    "       'season_Spring', 'season_Winter', 'month_Dec', 'month_Jan', 'month_Jul',\n",
    "       'month_Nov', 'month_Sep', 'weather_sit_Light_Snow',\n",
    "       'weather_sit_Mist_Cloudy']\n",
    "build_model(cols)\n",
    "get_vif(cols)"
   ]
  },
  {
   "cell_type": "markdown",
   "id": "bd28d398",
   "metadata": {},
   "source": [
    "Removing __weather_sit_Light_Snow__ variable as it negatively corelated."
   ]
  },
  {
   "cell_type": "markdown",
   "id": "d067537d",
   "metadata": {},
   "source": [
    "### Model 4"
   ]
  },
  {
   "cell_type": "code",
   "execution_count": 42,
   "id": "ee33b672",
   "metadata": {},
   "outputs": [
    {
     "name": "stdout",
     "output_type": "stream",
     "text": [
      "                            OLS Regression Results                            \n",
      "==============================================================================\n",
      "Dep. Variable:                  count   R-squared:                       0.791\n",
      "Model:                            OLS   Adj. R-squared:                  0.786\n",
      "Method:                 Least Squares   F-statistic:                     156.4\n",
      "Date:                Wed, 16 Mar 2022   Prob (F-statistic):          4.36e-160\n",
      "Time:                        20:57:28   Log-Likelihood:                -4188.5\n",
      "No. Observations:                 510   AIC:                             8403.\n",
      "Df Residuals:                     497   BIC:                             8458.\n",
      "Df Model:                          12                                         \n",
      "Covariance Type:            nonrobust                                         \n",
      "===========================================================================================\n",
      "                              coef    std err          t      P>|t|      [0.025      0.975]\n",
      "-------------------------------------------------------------------------------------------\n",
      "const                    2381.3382    251.662      9.462      0.000    1886.886    2875.791\n",
      "year                     2096.5436     80.715     25.975      0.000    1937.959    2255.128\n",
      "is_holiday               -665.1121    257.813     -2.580      0.010   -1171.649    -158.575\n",
      "a_temperature            3820.1279    335.161     11.398      0.000    3161.621    4478.635\n",
      "wind_speed              -1449.6017    250.278     -5.792      0.000   -1941.335    -957.868\n",
      "season_Spring            -906.2235    152.742     -5.933      0.000   -1206.322    -606.125\n",
      "season_Winter             345.6927    137.685      2.511      0.012      75.177     616.209\n",
      "month_Dec                -320.9073    171.970     -1.866      0.063    -658.786      16.971\n",
      "month_Jan                -407.2063    180.460     -2.256      0.024    -761.766     -52.647\n",
      "month_Jul                -577.9250    170.736     -3.385      0.001    -913.379    -242.471\n",
      "month_Nov                -295.3000    185.574     -1.591      0.112    -659.906      69.306\n",
      "month_Sep                 399.4665    155.226      2.573      0.010      94.486     704.447\n",
      "weather_sit_Mist_Cloudy  -590.4894     85.491     -6.907      0.000    -758.458    -422.521\n",
      "==============================================================================\n",
      "Omnibus:                      147.676   Durbin-Watson:                   2.019\n",
      "Prob(Omnibus):                  0.000   Jarque-Bera (JB):              615.805\n",
      "Skew:                          -1.244   Prob(JB):                    1.90e-134\n",
      "Kurtosis:                       7.774   Cond. No.                         15.4\n",
      "==============================================================================\n",
      "\n",
      "Notes:\n",
      "[1] Standard Errors assume that the covariance matrix of the errors is correctly specified.\n",
      "                   Features   VIF\n",
      "2             a_temperature  4.57\n",
      "3                wind_speed  3.88\n",
      "5             season_Winter  2.49\n",
      "4             season_Spring  2.35\n",
      "0                      year  2.05\n",
      "9                 month_Nov  1.79\n",
      "7                 month_Jan  1.65\n",
      "11  weather_sit_Mist_Cloudy  1.51\n",
      "6                 month_Dec  1.45\n",
      "8                 month_Jul  1.35\n",
      "10                month_Sep  1.21\n",
      "1                is_holiday  1.06\n"
     ]
    }
   ],
   "source": [
    "cols = ['year', 'is_holiday', 'a_temperature', 'wind_speed',\n",
    "       'season_Spring', 'season_Winter', 'month_Dec', 'month_Jan', 'month_Jul',\n",
    "       'month_Nov', 'month_Sep', 'weather_sit_Mist_Cloudy']\n",
    "build_model(cols)\n",
    "get_vif(cols)"
   ]
  },
  {
   "cell_type": "markdown",
   "id": "53d4349c",
   "metadata": {},
   "source": [
    "Removing __weather_sit_Light_Snow__ variable dropped the value of R-square and Adjusted R-square. Removing __month_Nov__ variable as it has p-value of __0.112__."
   ]
  },
  {
   "cell_type": "markdown",
   "id": "ae4ee936",
   "metadata": {},
   "source": [
    "### Model 5"
   ]
  },
  {
   "cell_type": "code",
   "execution_count": 43,
   "id": "c3e80b47",
   "metadata": {},
   "outputs": [
    {
     "name": "stdout",
     "output_type": "stream",
     "text": [
      "                            OLS Regression Results                            \n",
      "==============================================================================\n",
      "Dep. Variable:                  count   R-squared:                       0.790\n",
      "Model:                            OLS   Adj. R-squared:                  0.785\n",
      "Method:                 Least Squares   F-statistic:                     169.9\n",
      "Date:                Wed, 16 Mar 2022   Prob (F-statistic):          1.15e-160\n",
      "Time:                        20:57:28   Log-Likelihood:                -4189.8\n",
      "No. Observations:                 510   AIC:                             8404.\n",
      "Df Residuals:                     498   BIC:                             8454.\n",
      "Df Model:                          11                                         \n",
      "Covariance Type:            nonrobust                                         \n",
      "===========================================================================================\n",
      "                              coef    std err          t      P>|t|      [0.025      0.975]\n",
      "-------------------------------------------------------------------------------------------\n",
      "const                    2307.2722    247.701      9.315      0.000    1820.605    2793.939\n",
      "year                     2095.9458     80.838     25.928      0.000    1937.120    2254.771\n",
      "is_holiday               -714.7519    256.312     -2.789      0.005   -1218.338    -211.166\n",
      "a_temperature            3927.9709    328.742     11.948      0.000    3282.079    4573.863\n",
      "wind_speed              -1444.6154    250.643     -5.764      0.000   -1937.064    -952.167\n",
      "season_Spring            -885.5526    152.422     -5.810      0.000   -1185.022    -586.083\n",
      "season_Winter             243.9682    122.132      1.998      0.046       4.010     483.926\n",
      "month_Dec                -219.3259    159.929     -1.371      0.171    -533.544      94.892\n",
      "month_Jan                -377.0259    179.737     -2.098      0.036    -730.162     -23.890\n",
      "month_Jul                -593.2494    170.727     -3.475      0.001    -928.683    -257.816\n",
      "month_Sep                 424.2578    154.680      2.743      0.006     120.353     728.163\n",
      "weather_sit_Mist_Cloudy  -586.1383     85.579     -6.849      0.000    -754.278    -417.998\n",
      "==============================================================================\n",
      "Omnibus:                      137.663   Durbin-Watson:                   2.032\n",
      "Prob(Omnibus):                  0.000   Jarque-Bera (JB):              534.535\n",
      "Skew:                          -1.177   Prob(JB):                    8.46e-117\n",
      "Kurtosis:                       7.428   Cond. No.                         15.1\n",
      "==============================================================================\n",
      "\n",
      "Notes:\n",
      "[1] Standard Errors assume that the covariance matrix of the errors is correctly specified.\n",
      "                   Features   VIF\n",
      "2             a_temperature  4.54\n",
      "3                wind_speed  3.84\n",
      "4             season_Spring  2.35\n",
      "0                      year  2.05\n",
      "7                 month_Jan  1.64\n",
      "5             season_Winter  1.61\n",
      "10  weather_sit_Mist_Cloudy  1.51\n",
      "8                 month_Jul  1.35\n",
      "6                 month_Dec  1.28\n",
      "9                 month_Sep  1.20\n",
      "1                is_holiday  1.04\n"
     ]
    }
   ],
   "source": [
    "cols =  ['year', 'is_holiday', 'a_temperature', 'wind_speed',\n",
    "       'season_Spring', 'season_Winter', 'month_Dec', 'month_Jan', 'month_Jul',\n",
    "        'month_Sep', 'weather_sit_Mist_Cloudy']\n",
    "build_model(cols)\n",
    "get_vif(cols)"
   ]
  },
  {
   "cell_type": "markdown",
   "id": "5965a52c",
   "metadata": {},
   "source": [
    "Removing __month_Dec__ variable as it has p-value of __0.171.__"
   ]
  },
  {
   "cell_type": "markdown",
   "id": "d157a1d9",
   "metadata": {},
   "source": [
    "### Model 6"
   ]
  },
  {
   "cell_type": "code",
   "execution_count": 44,
   "id": "97b06674",
   "metadata": {},
   "outputs": [
    {
     "name": "stdout",
     "output_type": "stream",
     "text": [
      "                            OLS Regression Results                            \n",
      "==============================================================================\n",
      "Dep. Variable:                  count   R-squared:                       0.789\n",
      "Model:                            OLS   Adj. R-squared:                  0.785\n",
      "Method:                 Least Squares   F-statistic:                     186.4\n",
      "Date:                Wed, 16 Mar 2022   Prob (F-statistic):          2.08e-161\n",
      "Time:                        20:57:29   Log-Likelihood:                -4190.7\n",
      "No. Observations:                 510   AIC:                             8403.\n",
      "Df Residuals:                     499   BIC:                             8450.\n",
      "Df Model:                          10                                         \n",
      "Covariance Type:            nonrobust                                         \n",
      "===========================================================================================\n",
      "                              coef    std err          t      P>|t|      [0.025      0.975]\n",
      "-------------------------------------------------------------------------------------------\n",
      "const                    2236.2345    242.437      9.224      0.000    1759.911    2712.559\n",
      "year                     2096.3917     80.909     25.911      0.000    1937.428    2255.355\n",
      "is_holiday               -704.2208    256.423     -2.746      0.006   -1208.022    -200.419\n",
      "a_temperature            4016.6352    322.606     12.451      0.000    3382.801    4650.469\n",
      "wind_speed              -1401.8472    248.915     -5.632      0.000   -1890.898    -912.797\n",
      "season_Spring            -897.5027    152.307     -5.893      0.000   -1196.745    -598.261\n",
      "season_Winter             211.0034    119.849      1.761      0.079     -24.468     446.475\n",
      "month_Jan                -326.5767    176.087     -1.855      0.064    -672.541      19.387\n",
      "month_Jul                -606.0298    170.622     -3.552      0.000    -941.257    -270.803\n",
      "month_Sep                 432.6854    154.694      2.797      0.005     128.754     736.617\n",
      "weather_sit_Mist_Cloudy  -586.6892     85.653     -6.850      0.000    -754.975    -418.404\n",
      "==============================================================================\n",
      "Omnibus:                      134.201   Durbin-Watson:                   2.034\n",
      "Prob(Omnibus):                  0.000   Jarque-Bera (JB):              511.087\n",
      "Skew:                          -1.153   Prob(JB):                    1.04e-111\n",
      "Kurtosis:                       7.329   Cond. No.                         14.8\n",
      "==============================================================================\n",
      "\n",
      "Notes:\n",
      "[1] Standard Errors assume that the covariance matrix of the errors is correctly specified.\n",
      "                  Features   VIF\n",
      "2            a_temperature  4.54\n",
      "3               wind_speed  3.84\n",
      "4            season_Spring  2.24\n",
      "0                     year  2.05\n",
      "6                month_Jan  1.60\n",
      "9  weather_sit_Mist_Cloudy  1.51\n",
      "5            season_Winter  1.37\n",
      "7                month_Jul  1.35\n",
      "8                month_Sep  1.19\n",
      "1               is_holiday  1.04\n"
     ]
    }
   ],
   "source": [
    "cols =  ['year', 'is_holiday', 'a_temperature', 'wind_speed',\n",
    "       'season_Spring', 'season_Winter', 'month_Jan', 'month_Jul',\n",
    "        'month_Sep', 'weather_sit_Mist_Cloudy']\n",
    "build_model(cols)\n",
    "get_vif(cols)"
   ]
  },
  {
   "cell_type": "markdown",
   "id": "42af12cf",
   "metadata": {},
   "source": [
    "Removing __season_Winter__ as it has __high p-value__ comparitively.           "
   ]
  },
  {
   "cell_type": "markdown",
   "id": "fdd98e64",
   "metadata": {},
   "source": [
    "### Model 7"
   ]
  },
  {
   "cell_type": "code",
   "execution_count": 45,
   "id": "8a4f2a2a",
   "metadata": {},
   "outputs": [
    {
     "name": "stdout",
     "output_type": "stream",
     "text": [
      "                            OLS Regression Results                            \n",
      "==============================================================================\n",
      "Dep. Variable:                  count   R-squared:                       0.788\n",
      "Model:                            OLS   Adj. R-squared:                  0.784\n",
      "Method:                 Least Squares   F-statistic:                     205.9\n",
      "Date:                Wed, 16 Mar 2022   Prob (F-statistic):          6.57e-162\n",
      "Time:                        20:57:29   Log-Likelihood:                -4192.3\n",
      "No. Observations:                 510   AIC:                             8405.\n",
      "Df Residuals:                     500   BIC:                             8447.\n",
      "Df Model:                           9                                         \n",
      "Covariance Type:            nonrobust                                         \n",
      "===========================================================================================\n",
      "                              coef    std err          t      P>|t|      [0.025      0.975]\n",
      "-------------------------------------------------------------------------------------------\n",
      "const                    2500.0101    191.001     13.089      0.000    2124.747    2875.273\n",
      "year                     2100.8368     81.039     25.924      0.000    1941.618    2260.056\n",
      "is_holiday               -678.8790    256.555     -2.646      0.008   -1182.939    -174.819\n",
      "a_temperature            3719.3722    275.470     13.502      0.000    3178.151    4260.593\n",
      "wind_speed              -1468.5413    246.531     -5.957      0.000   -1952.906    -984.176\n",
      "season_Spring           -1038.2790    129.901     -7.993      0.000   -1293.499    -783.060\n",
      "month_Jan                -368.3247    174.849     -2.107      0.036    -711.855     -24.795\n",
      "month_Jul                -611.8096    170.949     -3.579      0.000    -947.676    -275.943\n",
      "month_Sep                 426.6215    154.980      2.753      0.006     122.129     731.114\n",
      "weather_sit_Mist_Cloudy  -590.7921     85.801     -6.886      0.000    -759.367    -422.217\n",
      "==============================================================================\n",
      "Omnibus:                      125.256   Durbin-Watson:                   2.041\n",
      "Prob(Omnibus):                  0.000   Jarque-Bera (JB):              448.765\n",
      "Skew:                          -1.092   Prob(JB):                     3.56e-98\n",
      "Kurtosis:                       7.043   Cond. No.                         11.9\n",
      "==============================================================================\n",
      "\n",
      "Notes:\n",
      "[1] Standard Errors assume that the covariance matrix of the errors is correctly specified.\n",
      "                  Features   VIF\n",
      "2            a_temperature  4.52\n",
      "3               wind_speed  3.65\n",
      "4            season_Spring  2.10\n",
      "0                     year  2.03\n",
      "5                month_Jan  1.60\n",
      "8  weather_sit_Mist_Cloudy  1.49\n",
      "6                month_Jul  1.32\n",
      "7                month_Sep  1.19\n",
      "1               is_holiday  1.03\n"
     ]
    }
   ],
   "source": [
    "cols = ['year', 'is_holiday', 'a_temperature', 'wind_speed',\n",
    "       'season_Spring', 'month_Jan', 'month_Jul',\n",
    "        'month_Sep', 'weather_sit_Mist_Cloudy']\n",
    "build_model(cols)\n",
    "get_vif(cols)"
   ]
  },
  {
   "cell_type": "markdown",
   "id": "905c9143",
   "metadata": {},
   "source": [
    "R-square and Adjusted R-square did not drop much. Lets try to remove __wind_speed__ as it is negatively corelated."
   ]
  },
  {
   "cell_type": "markdown",
   "id": "9bf24b08",
   "metadata": {},
   "source": [
    "### Model 8"
   ]
  },
  {
   "cell_type": "code",
   "execution_count": 46,
   "id": "a1844910",
   "metadata": {},
   "outputs": [
    {
     "name": "stdout",
     "output_type": "stream",
     "text": [
      "                            OLS Regression Results                            \n",
      "==============================================================================\n",
      "Dep. Variable:                  count   R-squared:                       0.772\n",
      "Model:                            OLS   Adj. R-squared:                  0.769\n",
      "Method:                 Least Squares   F-statistic:                     212.6\n",
      "Date:                Wed, 16 Mar 2022   Prob (F-statistic):          1.13e-155\n",
      "Time:                        20:57:29   Log-Likelihood:                -4209.8\n",
      "No. Observations:                 510   AIC:                             8438.\n",
      "Df Residuals:                     501   BIC:                             8476.\n",
      "Df Model:                           8                                         \n",
      "Covariance Type:            nonrobust                                         \n",
      "===========================================================================================\n",
      "                              coef    std err          t      P>|t|      [0.025      0.975]\n",
      "-------------------------------------------------------------------------------------------\n",
      "const                    1917.6242    169.634     11.304      0.000    1584.342    2250.907\n",
      "year                     2090.1537     83.761     24.954      0.000    1925.588    2254.720\n",
      "is_holiday               -686.0490    265.235     -2.587      0.010   -1207.159    -164.939\n",
      "a_temperature            3937.5649    282.263     13.950      0.000    3382.999    4492.131\n",
      "season_Spring           -1120.7317    133.533     -8.393      0.000   -1383.085    -858.379\n",
      "month_Jan                -227.5018    179.107     -1.270      0.205    -579.395     124.391\n",
      "month_Jul                -601.0062    176.724     -3.401      0.001    -948.217    -253.795\n",
      "month_Sep                 494.4549    159.792      3.094      0.002     180.510     808.399\n",
      "weather_sit_Mist_Cloudy  -572.3010     88.647     -6.456      0.000    -746.466    -398.136\n",
      "==============================================================================\n",
      "Omnibus:                      145.787   Durbin-Watson:                   2.039\n",
      "Prob(Omnibus):                  0.000   Jarque-Bera (JB):              623.519\n",
      "Skew:                          -1.217   Prob(JB):                    4.02e-136\n",
      "Kurtosis:                       7.839   Cond. No.                         11.0\n",
      "==============================================================================\n",
      "\n",
      "Notes:\n",
      "[1] Standard Errors assume that the covariance matrix of the errors is correctly specified.\n",
      "                  Features   VIF\n",
      "2            a_temperature  2.86\n",
      "0                     year  2.01\n",
      "3            season_Spring  1.75\n",
      "4                month_Jan  1.60\n",
      "7  weather_sit_Mist_Cloudy  1.47\n",
      "5                month_Jul  1.29\n",
      "6                month_Sep  1.18\n",
      "1               is_holiday  1.03\n"
     ]
    }
   ],
   "source": [
    "cols = ['year', 'is_holiday', 'a_temperature', \n",
    "       'season_Spring', 'month_Jan', 'month_Jul',\n",
    "        'month_Sep', 'weather_sit_Mist_Cloudy']\n",
    "build_model(cols)\n",
    "get_vif(cols)"
   ]
  },
  {
   "cell_type": "markdown",
   "id": "8eb4159b",
   "metadata": {},
   "source": [
    "The p-value of __month_Jan__ variable increased significantly.Hence, removing __month_Jan__"
   ]
  },
  {
   "cell_type": "markdown",
   "id": "e83df047",
   "metadata": {},
   "source": [
    "### Model 9"
   ]
  },
  {
   "cell_type": "code",
   "execution_count": 47,
   "id": "13b115a5",
   "metadata": {},
   "outputs": [
    {
     "name": "stdout",
     "output_type": "stream",
     "text": [
      "                            OLS Regression Results                            \n",
      "==============================================================================\n",
      "Dep. Variable:                  count   R-squared:                       0.772\n",
      "Model:                            OLS   Adj. R-squared:                  0.769\n",
      "Method:                 Least Squares   F-statistic:                     242.4\n",
      "Date:                Wed, 16 Mar 2022   Prob (F-statistic):          1.57e-156\n",
      "Time:                        20:57:29   Log-Likelihood:                -4210.6\n",
      "No. Observations:                 510   AIC:                             8437.\n",
      "Df Residuals:                     502   BIC:                             8471.\n",
      "Df Model:                           7                                         \n",
      "Covariance Type:            nonrobust                                         \n",
      "===========================================================================================\n",
      "                              coef    std err          t      P>|t|      [0.025      0.975]\n",
      "-------------------------------------------------------------------------------------------\n",
      "const                    1884.1186    167.673     11.237      0.000    1554.691    2213.547\n",
      "year                     2086.7102     83.768     24.911      0.000    1922.131    2251.290\n",
      "is_holiday               -687.3677    265.395     -2.590      0.010   -1208.789    -165.946\n",
      "a_temperature            4006.3705    277.186     14.454      0.000    3461.783    4550.958\n",
      "season_Spring           -1185.2827    123.560     -9.593      0.000   -1428.041    -942.525\n",
      "month_Jul                -620.5659    176.159     -3.523      0.000    -966.666    -274.466\n",
      "month_Sep                 487.0918    159.784      3.048      0.002     173.164     801.020\n",
      "weather_sit_Mist_Cloudy  -579.0033     88.544     -6.539      0.000    -752.965    -405.041\n",
      "==============================================================================\n",
      "Omnibus:                      143.361   Durbin-Watson:                   2.037\n",
      "Prob(Omnibus):                  0.000   Jarque-Bera (JB):              609.552\n",
      "Skew:                          -1.197   Prob(JB):                    4.34e-133\n",
      "Kurtosis:                       7.791   Cond. No.                         10.8\n",
      "==============================================================================\n",
      "\n",
      "Notes:\n",
      "[1] Standard Errors assume that the covariance matrix of the errors is correctly specified.\n",
      "                  Features   VIF\n",
      "2            a_temperature  2.82\n",
      "0                     year  2.01\n",
      "6  weather_sit_Mist_Cloudy  1.46\n",
      "4                month_Jul  1.29\n",
      "3            season_Spring  1.20\n",
      "5                month_Sep  1.18\n",
      "1               is_holiday  1.03\n"
     ]
    }
   ],
   "source": [
    "cols =  ['year', 'is_holiday', 'a_temperature', 'season_Spring', 'month_Jul',\n",
    "        'month_Sep', 'weather_sit_Mist_Cloudy']\n",
    "build_model(cols)\n",
    "get_vif(cols)"
   ]
  },
  {
   "cell_type": "markdown",
   "id": "efe0ab02",
   "metadata": {},
   "source": [
    "Adding __weather_sit_Light_Snow__ as dropping it, dropped the value of R-square and Adjuested R-Square in Model 3. Removing __is_holiday__ variable as it is negatively corelated."
   ]
  },
  {
   "cell_type": "markdown",
   "id": "5b705ee2",
   "metadata": {},
   "source": [
    "### Model 10"
   ]
  },
  {
   "cell_type": "code",
   "execution_count": 66,
   "id": "2a21ef1c",
   "metadata": {},
   "outputs": [
    {
     "name": "stdout",
     "output_type": "stream",
     "text": [
      "                            OLS Regression Results                            \n",
      "==============================================================================\n",
      "Dep. Variable:                  count   R-squared:                       0.817\n",
      "Model:                            OLS   Adj. R-squared:                  0.814\n",
      "Method:                 Least Squares   F-statistic:                     280.3\n",
      "Date:                Wed, 16 Mar 2022   Prob (F-statistic):          1.52e-179\n",
      "Time:                        20:59:05   Log-Likelihood:                -4153.7\n",
      "No. Observations:                 510   AIC:                             8325.\n",
      "Df Residuals:                     501   BIC:                             8363.\n",
      "Df Model:                           8                                         \n",
      "Covariance Type:            nonrobust                                         \n",
      "===========================================================================================\n",
      "                              coef    std err          t      P>|t|      [0.025      0.975]\n",
      "-------------------------------------------------------------------------------------------\n",
      "const                    1720.4565    193.122      8.909      0.000    1341.027    2099.886\n",
      "year                     2037.1949     75.124     27.118      0.000    1889.599    2184.791\n",
      "a_temperature            4268.6997    286.917     14.878      0.000    3704.991    4832.408\n",
      "season_Spring           -1023.2150    136.477     -7.497      0.000   -1291.353    -755.077\n",
      "season_Winter             390.9649    109.296      3.577      0.000     176.230     605.700\n",
      "month_Jul                -563.1326    157.788     -3.569      0.000    -873.141    -253.125\n",
      "month_Sep                 548.9445    142.986      3.839      0.000     268.019     829.870\n",
      "weather_sit_Light_Snow  -2519.0086    224.688    -11.211      0.000   -2960.456   -2077.561\n",
      "weather_sit_Mist_Cloudy  -681.9463     79.943     -8.530      0.000    -839.011    -524.882\n",
      "==============================================================================\n",
      "Omnibus:                       72.873   Durbin-Watson:                   1.988\n",
      "Prob(Omnibus):                  0.000   Jarque-Bera (JB):              197.077\n",
      "Skew:                          -0.704   Prob(JB):                     1.60e-43\n",
      "Kurtosis:                       5.700   Cond. No.                         13.3\n",
      "==============================================================================\n",
      "\n",
      "Notes:\n",
      "[1] Standard Errors assume that the covariance matrix of the errors is correctly specified.\n",
      "                  Features   VIF\n",
      "1            a_temperature  2.99\n",
      "0                     year  2.04\n",
      "7  weather_sit_Mist_Cloudy  1.50\n",
      "3            season_Winter  1.33\n",
      "4                month_Jul  1.33\n",
      "2            season_Spring  1.23\n",
      "5                month_Sep  1.18\n",
      "6   weather_sit_Light_Snow  1.06\n"
     ]
    }
   ],
   "source": [
    "cols =  ['year',  'a_temperature', 'season_Spring','season_Winter', 'month_Jul','month_Sep', 'weather_sit_Light_Snow','weather_sit_Mist_Cloudy']\n",
    "build_model(cols)\n",
    "get_vif(cols)"
   ]
  },
  {
   "cell_type": "markdown",
   "id": "d226d789",
   "metadata": {},
   "source": [
    "Adding __weather_sit_Light_Snow__, improved R-score without impacting other variable. The p-value and VIF of all the variables is less than 0.05 and 5 respectively. Therefore, we will select this model for Model Evaluation."
   ]
  },
  {
   "cell_type": "code",
   "execution_count": 49,
   "id": "3701ef39",
   "metadata": {},
   "outputs": [],
   "source": [
    "final_cols = cols"
   ]
  },
  {
   "cell_type": "markdown",
   "id": "1d9d484d",
   "metadata": {},
   "source": [
    "### 6. Model Evaluation"
   ]
  },
  {
   "cell_type": "markdown",
   "id": "03421c36",
   "metadata": {},
   "source": [
    "__a. Residual Analysis__"
   ]
  },
  {
   "cell_type": "code",
   "execution_count": 50,
   "id": "fd662c72",
   "metadata": {},
   "outputs": [],
   "source": [
    "# Error terms\n",
    "def plot_err_terms(residual,length,figLabel):\n",
    "    c = [i for i in range(1,length+1,1)]\n",
    "    fig = plt.figure(figsize=(14,5))\n",
    "    plt.plot(c , residual, color=\"orange\", marker='o', linewidth=2.5, linestyle=\"\")\n",
    "    fig.suptitle('Error Terms of ' + figLabel, fontsize=20)\n",
    "    plt.xlabel('Index', fontsize = 15)                      \n",
    "    plt.ylabel('Errors', fontsize = 15) "
   ]
  },
  {
   "cell_type": "code",
   "execution_count": 51,
   "id": "62b39abe",
   "metadata": {},
   "outputs": [
    {
     "data": {
      "text/plain": [
       "LinearRegression()"
      ]
     },
     "execution_count": 51,
     "metadata": {},
     "output_type": "execute_result"
    }
   ],
   "source": [
    "X_train = X_train[final_cols]\n",
    "\n",
    "lm = LinearRegression()\n",
    "lm.fit(X_train,y_train)"
   ]
  },
  {
   "cell_type": "code",
   "execution_count": 52,
   "id": "d45ae6bf",
   "metadata": {},
   "outputs": [],
   "source": [
    "y_train_pred = lm.predict(X_train)"
   ]
  },
  {
   "cell_type": "code",
   "execution_count": 53,
   "id": "05e21e24",
   "metadata": {},
   "outputs": [
    {
     "data": {
      "image/png": "[encoded data removed]",
      "text/plain": [
       "<Figure size 432x288 with 1 Axes>"
      ]
     },
     "metadata": {
      "needs_background": "light"
     },
     "output_type": "display_data"
    }
   ],
   "source": [
    "residual = y_train - y_train_pred\n",
    "sns.distplot(residual)\n",
    "plt.title('Residual distribution of Train dataset')\n",
    "plt.xlabel('Errors')\n",
    "plt.show()"
   ]
  },
  {
   "cell_type": "markdown",
   "id": "6138430b",
   "metadata": {},
   "source": [
    "The above distplot depicts that the __residual of train dataset__ is a __normal distribution.__"
   ]
  },
  {
   "cell_type": "code",
   "execution_count": 54,
   "id": "4cc7b5b6",
   "metadata": {},
   "outputs": [
    {
     "data": {
      "text/plain": [
       "0.8173851208184806"
      ]
     },
     "execution_count": 54,
     "metadata": {},
     "output_type": "execute_result"
    }
   ],
   "source": [
    "#R-squared Value of train data set\n",
    "r2_score(y_train,y_train_pred)"
   ]
  },
  {
   "cell_type": "markdown",
   "id": "91e36d04",
   "metadata": {},
   "source": [
    "The R-square value of the __predicted__ is same as R-square obtained from Model 10, which is the selected model."
   ]
  },
  {
   "cell_type": "code",
   "execution_count": 55,
   "id": "dadbc5a7",
   "metadata": {},
   "outputs": [
    {
     "data": {
      "image/png": "[encoded data removed]",
      "text/plain": [
       "<Figure size 1008x360 with 1 Axes>"
      ]
     },
     "metadata": {
      "needs_background": "light"
     },
     "output_type": "display_data"
    }
   ],
   "source": [
    "#Plot error terms for train data set\n",
    "plot_err_terms(y_train - y_train_pred, len(y_train), 'Train Dataset')"
   ]
  },
  {
   "cell_type": "markdown",
   "id": "48c289d0",
   "metadata": {},
   "source": [
    "From the above scatter plot, it can be concluded that there are __no visible patterns in the error terms__, except few ouliers."
   ]
  },
  {
   "cell_type": "markdown",
   "id": "f7ded88d",
   "metadata": {},
   "source": [
    "__b. Predictions on test set__"
   ]
  },
  {
   "cell_type": "code",
   "execution_count": 56,
   "id": "83e022e4",
   "metadata": {},
   "outputs": [],
   "source": [
    "# y to contain only target variable\n",
    "y_test = bike_data_test.pop('count')\n",
    "\n",
    "#X is all remaining variable also our independent variables\n",
    "X_test = bike_data_test"
   ]
  },
  {
   "cell_type": "code",
   "execution_count": 57,
   "id": "05b6ea7f",
   "metadata": {},
   "outputs": [],
   "source": [
    "#Scale variables in X_test\n",
    "num_vars = ['a_temperature','humidity','wind_speed']\n",
    "\n",
    "#Test data to be transformed only, no fitting\n",
    "X_test[num_vars] = scaler.transform(X_test[num_vars])"
   ]
  },
  {
   "cell_type": "code",
   "execution_count": 58,
   "id": "31bdeeb5",
   "metadata": {},
   "outputs": [],
   "source": [
    "#Predict the values for test data\n",
    "y_test_pred = lm.predict(X_test[cols])"
   ]
  },
  {
   "cell_type": "code",
   "execution_count": 59,
   "id": "a1bb8f39",
   "metadata": {},
   "outputs": [
    {
     "data": {
      "text/plain": [
       "0.811225287134484"
      ]
     },
     "execution_count": 59,
     "metadata": {},
     "output_type": "execute_result"
    }
   ],
   "source": [
    "# Find out the R squared value between test and predicted test data sets.  \n",
    "r2_score(y_test,y_test_pred)"
   ]
  },
  {
   "cell_type": "markdown",
   "id": "20c3cfb1",
   "metadata": {},
   "source": [
    "R-square of the test dataset __0.811__ which is almost the same as the R-sqaure of the train dataset __0.817__. This is a good R-squared value, hence the model is performing good even on test data."
   ]
  },
  {
   "cell_type": "code",
   "execution_count": 60,
   "id": "b6e54764",
   "metadata": {},
   "outputs": [
    {
     "data": {
      "image/png": "[encoded data removed]",
      "text/plain": [
       "<Figure size 432x288 with 1 Axes>"
      ]
     },
     "metadata": {
      "needs_background": "light"
     },
     "output_type": "display_data"
    }
   ],
   "source": [
    "residual = y_test - y_test_pred\n",
    "sns.distplot(residual)\n",
    "plt.title('Residual distribution of Test dataset')\n",
    "plt.xlabel('Errors')\n",
    "plt.show()"
   ]
  },
  {
   "cell_type": "markdown",
   "id": "7e5984de",
   "metadata": {},
   "source": [
    "The above distplot depicts that the __residual of test dataset__ is nearly a __normal distribution__, which the mean centered at 0."
   ]
  },
  {
   "cell_type": "code",
   "execution_count": 61,
   "id": "3254dc61",
   "metadata": {},
   "outputs": [
    {
     "data": {
      "image/png": "[encoded data removed]",
      "text/plain": [
       "<Figure size 1008x360 with 1 Axes>"
      ]
     },
     "metadata": {
      "needs_background": "light"
     },
     "output_type": "display_data"
    }
   ],
   "source": [
    "#Plot error terms for test data\n",
    "plot_err_terms(y_test - y_test_pred, len(y_test), 'Test Dataset')"
   ]
  },
  {
   "cell_type": "markdown",
   "id": "fb4154fe",
   "metadata": {},
   "source": [
    "From the above scatter plot, it is visible that there are __no visible patterns in the error terms__, except few ouliers."
   ]
  },
  {
   "cell_type": "markdown",
   "id": "138f40e8",
   "metadata": {},
   "source": [
    "__c. Plot Actual v/s Predicted values__"
   ]
  },
  {
   "cell_type": "code",
   "execution_count": 62,
   "id": "eb158e1d",
   "metadata": {},
   "outputs": [],
   "source": [
    "def plot_act_pred(actual,predicted,scale,dataname):\n",
    "    c = [i for i in range(1,scale + 1 ,1)]\n",
    "    fig = plt.figure(figsize=(14,5))\n",
    "    plt.plot(c, actual, color=\"green\", linewidth=2.5, linestyle=\"-\", label='Actual')\n",
    "    plt.plot(c, predicted, color=\"red\",  linewidth=2.5, linestyle=\"-.\", label='Predicted')\n",
    "    fig.suptitle('Actual and Predicted - '+ dataname, fontsize=20)              # Plot heading \n",
    "    plt.xlabel('Index', fontsize=18)                               # X-label\n",
    "    plt.ylabel('Counts', fontsize=16)\n",
    "    plt.legend()"
   ]
  },
  {
   "cell_type": "code",
   "execution_count": 63,
   "id": "00a23963",
   "metadata": {
    "scrolled": false
   },
   "outputs": [
    {
     "data": {
      "image/png": "[encoded data removed]",
      "text/plain": [
       "<Figure size 1008x360 with 1 Axes>"
      ]
     },
     "metadata": {
      "needs_background": "light"
     },
     "output_type": "display_data"
    }
   ],
   "source": [
    "#Plot Actual vs Predicted for Test Data\n",
    "plot_act_pred(y_test, y_test_pred, len(y_test),'Test Data')"
   ]
  },
  {
   "cell_type": "markdown",
   "id": "4c212d23",
   "metadata": {},
   "source": [
    "The actual and the predicted data follows the same pattern, i.e. the predictions are close to actuals"
   ]
  },
  {
   "cell_type": "markdown",
   "id": "6ce98f06",
   "metadata": {},
   "source": [
    "### 7. Interpretations"
   ]
  },
  {
   "cell_type": "markdown",
   "id": "afe265dc",
   "metadata": {},
   "source": [
    "After model evaluation, it is observed that Model 10 is a good fit for predicting bike sharing demand."
   ]
  },
  {
   "cell_type": "code",
   "execution_count": 64,
   "id": "0ff00c5a",
   "metadata": {},
   "outputs": [
    {
     "name": "stdout",
     "output_type": "stream",
     "text": [
      "                            OLS Regression Results                            \n",
      "==============================================================================\n",
      "Dep. Variable:                  count   R-squared:                       0.817\n",
      "Model:                            OLS   Adj. R-squared:                  0.814\n",
      "Method:                 Least Squares   F-statistic:                     280.3\n",
      "Date:                Wed, 16 Mar 2022   Prob (F-statistic):          1.52e-179\n",
      "Time:                        20:57:32   Log-Likelihood:                -4153.7\n",
      "No. Observations:                 510   AIC:                             8325.\n",
      "Df Residuals:                     501   BIC:                             8363.\n",
      "Df Model:                           8                                         \n",
      "Covariance Type:            nonrobust                                         \n",
      "===========================================================================================\n",
      "                              coef    std err          t      P>|t|      [0.025      0.975]\n",
      "-------------------------------------------------------------------------------------------\n",
      "const                    1720.4565    193.122      8.909      0.000    1341.027    2099.886\n",
      "year                     2037.1949     75.124     27.118      0.000    1889.599    2184.791\n",
      "a_temperature            4268.6997    286.917     14.878      0.000    3704.991    4832.408\n",
      "season_Spring           -1023.2150    136.477     -7.497      0.000   -1291.353    -755.077\n",
      "season_Winter             390.9649    109.296      3.577      0.000     176.230     605.700\n",
      "month_Jul                -563.1326    157.788     -3.569      0.000    -873.141    -253.125\n",
      "month_Sep                 548.9445    142.986      3.839      0.000     268.019     829.870\n",
      "weather_sit_Light_Snow  -2519.0086    224.688    -11.211      0.000   -2960.456   -2077.561\n",
      "weather_sit_Mist_Cloudy  -681.9463     79.943     -8.530      0.000    -839.011    -524.882\n",
      "==============================================================================\n",
      "Omnibus:                       72.873   Durbin-Watson:                   1.988\n",
      "Prob(Omnibus):                  0.000   Jarque-Bera (JB):              197.077\n",
      "Skew:                          -0.704   Prob(JB):                     1.60e-43\n",
      "Kurtosis:                       5.700   Cond. No.                         13.3\n",
      "==============================================================================\n",
      "\n",
      "Notes:\n",
      "[1] Standard Errors assume that the covariance matrix of the errors is correctly specified.\n",
      "                  Features   VIF\n",
      "1            a_temperature  2.99\n",
      "0                     year  2.04\n",
      "7  weather_sit_Mist_Cloudy  1.50\n",
      "3            season_Winter  1.33\n",
      "4                month_Jul  1.33\n",
      "2            season_Spring  1.23\n",
      "5                month_Sep  1.18\n",
      "6   weather_sit_Light_Snow  1.06\n"
     ]
    }
   ],
   "source": [
    "lm = build_model(final_cols)\n",
    "get_vif(final_cols)"
   ]
  },
  {
   "cell_type": "code",
   "execution_count": 65,
   "id": "604e7858",
   "metadata": {},
   "outputs": [
    {
     "data": {
      "text/plain": [
       "const                      1720.456478\n",
       "year                       2037.194915\n",
       "a_temperature              4268.699660\n",
       "season_Spring             -1023.215015\n",
       "season_Winter               390.964887\n",
       "month_Jul                  -563.132588\n",
       "month_Sep                   548.944493\n",
       "weather_sit_Light_Snow    -2519.008627\n",
       "weather_sit_Mist_Cloudy    -681.946338\n",
       "dtype: float64"
      ]
     },
     "execution_count": 65,
     "metadata": {},
     "output_type": "execute_result"
    }
   ],
   "source": [
    "lm.params"
   ]
  },
  {
   "cell_type": "markdown",
   "id": "06c0383e",
   "metadata": {},
   "source": [
    "- The equation for the best fitted line is given by:"
   ]
  },
  {
   "cell_type": "markdown",
   "id": "60e6e6e6",
   "metadata": {},
   "source": [
    "__count__ =  1720.45 + 2037.19× __year__ + 4093.03× __temperature__ + (-1023.21) × __season_Spring__ + 390.96× __season_Winter__ + (-563.13)× __month_Jul__ + 548.94× __month_Sep__  + (-2519.00)× __weather_sit_Light_Snow__ + (-681.94)× __weather_sit_Mist_Cloudy__."
   ]
  },
  {
   "cell_type": "markdown",
   "id": "aefd4331",
   "metadata": {},
   "source": [
    "After analysis, the bike sharing company should focus on the following:\n",
    "- The number of bike users has increased in 2019 as compared to 2018, so it can be anticipated that the business will grow over the years without any changes in the current settings.\n",
    "- The company should focus to tackle the decrease in their revenue during Spring season and in the month of July as the business in negatively impacted during these periods. This can be done by rolling out offers and discounts during Spring season.\n",
    "- The bookings are less during Light Snow and Rainy days. The company should focus on servicing their bikes during this time.\n",
    "- The business is doing well in the month of September and during Winter season. The company should expand the business and increase their revenue exponentially through marketing and advertising."
   ]
  },
  {
   "cell_type": "code",
   "execution_count": null,
   "id": "d35a5f9d",
   "metadata": {},
   "outputs": [],
   "source": []
  }
 ],
 "metadata": {
  "kernelspec": {
   "display_name": "Python 3 (ipykernel)",
   "language": "python",
   "name": "python3"
  },
  "language_info": {
   "codemirror_mode": {
    "name": "ipython",
    "version": 3
   },
   "file_extension": ".py",
   "mimetype": "text/x-python",
   "name": "python",
   "nbconvert_exporter": "python",
   "pygments_lexer": "ipython3",
   "version": "3.9.7"
  }
 },
 "nbformat": 4,
 "nbformat_minor": 5
}
